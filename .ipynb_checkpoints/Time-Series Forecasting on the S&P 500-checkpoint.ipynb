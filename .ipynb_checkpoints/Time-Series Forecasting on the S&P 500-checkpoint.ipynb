{
 "cells": [
  {
   "cell_type": "markdown",
   "id": "9431c2b9",
   "metadata": {},
   "source": [
    "In this project, we'll be taking on the role of a trader on the S&P 500 futures desk. Our goal is to build a successful model to forecast how this index will move based on its past behavior. If we can make successful predictions, we can trade these futures effectively and lucratively."
   ]
  },
  {
   "cell_type": "markdown",
   "id": "90d86e62",
   "metadata": {},
   "source": [
    "To get started, we'll first need to take a look at the dataset we'll be using. It's from [Yahoo Finance via Kaggle](https://www.kaggle.com/datasets/arashnic/time-series-forecasting-with-yahoo-stock-price) and contains S&P 500 Index prices from 2015 through 2020."
   ]
  },
  {
   "cell_type": "markdown",
   "id": "07033f25",
   "metadata": {},
   "source": [
    "We'll be walking through the steps \n",
    "* to load, \n",
    "* clean, and \n",
    "* explore this dataset first, since the dataset we're starting from is raw and hasn't had any preprocessing applied to it yet. \n",
    "\n",
    "Then we'll go through the specifics for preparing this dataset for a time series forecast with RNNs, including \n",
    "* creating the time windows. \n",
    "\n",
    "Once the data is prepared, we'll build, train, and evaluate several forecasting models until we have achieved satisfactory performance. \n",
    "\n",
    "Finally, we'll take what we've built and visualize the output so we can see how successful our trading strategy is going to be!"
   ]
  },
  {
   "cell_type": "markdown",
   "id": "935832df",
   "metadata": {},
   "source": [
    "### Data Wrangling and Exploration\n",
    "\n",
    "First, we will load the dataset into our notebook and inspect the data for any data quality issues. At a minimum, we should check for:\n",
    "\n",
    "-   Missing values\n",
    "-   Outliers\n",
    "-   Whether the data is sorted by the `Date` column — this is essential for time series forecasting!\n",
    "\n",
    "The data has several potential columns for us to use for forecasting:\n",
    "\n",
    "-   `Open`: the opening value of the index on that day\n",
    "-   `High`: the highest value of the index on that day\n",
    "-   `Low`: the lowest value of the index on that day\n",
    "-   `Close`: the closing value of the index on that day\n",
    "-   `Volume`: the total volume of the index traded on that day\n",
    "-   `Adj Close`: the closing value of the index on that day [*adjusted for dividends*](https://www.investopedia.com/articles/investing/091015/how-dividends-affect-stock-prices.asp)\n",
    "\n",
    "It's possible to use any of these columns for forecasting, but it's best to use `Adj Close` as it has already accounted for any discrete jumps in the index due to stocks paying out dividends.\n",
    "\n",
    "Before moving onto any preprocessing steps, it will be helpful to produce a few visualizations of this data."
   ]
  },
  {
   "cell_type": "code",
   "execution_count": 1,
   "id": "a37a2a94",
   "metadata": {},
   "outputs": [],
   "source": [
    "import pandas as pd\n",
    "\n",
    "stock_data = pd.read_csv(\"yahoo_stock.csv\")"
   ]
  },
  {
   "cell_type": "code",
   "execution_count": 2,
   "id": "7b7db689",
   "metadata": {},
   "outputs": [
    {
     "data": {
      "text/html": [
       "<div>\n",
       "<style scoped>\n",
       "    .dataframe tbody tr th:only-of-type {\n",
       "        vertical-align: middle;\n",
       "    }\n",
       "\n",
       "    .dataframe tbody tr th {\n",
       "        vertical-align: top;\n",
       "    }\n",
       "\n",
       "    .dataframe thead th {\n",
       "        text-align: right;\n",
       "    }\n",
       "</style>\n",
       "<table border=\"1\" class=\"dataframe\">\n",
       "  <thead>\n",
       "    <tr style=\"text-align: right;\">\n",
       "      <th></th>\n",
       "      <th>Date</th>\n",
       "      <th>High</th>\n",
       "      <th>Low</th>\n",
       "      <th>Open</th>\n",
       "      <th>Close</th>\n",
       "      <th>Volume</th>\n",
       "      <th>Adj Close</th>\n",
       "    </tr>\n",
       "  </thead>\n",
       "  <tbody>\n",
       "    <tr>\n",
       "      <th>0</th>\n",
       "      <td>2015-11-23</td>\n",
       "      <td>2095.610107</td>\n",
       "      <td>2081.389893</td>\n",
       "      <td>2089.409912</td>\n",
       "      <td>2086.590088</td>\n",
       "      <td>3.587980e+09</td>\n",
       "      <td>2086.590088</td>\n",
       "    </tr>\n",
       "    <tr>\n",
       "      <th>1</th>\n",
       "      <td>2015-11-24</td>\n",
       "      <td>2094.120117</td>\n",
       "      <td>2070.290039</td>\n",
       "      <td>2084.419922</td>\n",
       "      <td>2089.139893</td>\n",
       "      <td>3.884930e+09</td>\n",
       "      <td>2089.139893</td>\n",
       "    </tr>\n",
       "    <tr>\n",
       "      <th>2</th>\n",
       "      <td>2015-11-25</td>\n",
       "      <td>2093.000000</td>\n",
       "      <td>2086.300049</td>\n",
       "      <td>2089.300049</td>\n",
       "      <td>2088.870117</td>\n",
       "      <td>2.852940e+09</td>\n",
       "      <td>2088.870117</td>\n",
       "    </tr>\n",
       "    <tr>\n",
       "      <th>3</th>\n",
       "      <td>2015-11-26</td>\n",
       "      <td>2093.000000</td>\n",
       "      <td>2086.300049</td>\n",
       "      <td>2089.300049</td>\n",
       "      <td>2088.870117</td>\n",
       "      <td>2.852940e+09</td>\n",
       "      <td>2088.870117</td>\n",
       "    </tr>\n",
       "    <tr>\n",
       "      <th>4</th>\n",
       "      <td>2015-11-27</td>\n",
       "      <td>2093.290039</td>\n",
       "      <td>2084.129883</td>\n",
       "      <td>2088.820068</td>\n",
       "      <td>2090.110107</td>\n",
       "      <td>1.466840e+09</td>\n",
       "      <td>2090.110107</td>\n",
       "    </tr>\n",
       "  </tbody>\n",
       "</table>\n",
       "</div>"
      ],
      "text/plain": [
       "         Date         High          Low         Open        Close  \\\n",
       "0  2015-11-23  2095.610107  2081.389893  2089.409912  2086.590088   \n",
       "1  2015-11-24  2094.120117  2070.290039  2084.419922  2089.139893   \n",
       "2  2015-11-25  2093.000000  2086.300049  2089.300049  2088.870117   \n",
       "3  2015-11-26  2093.000000  2086.300049  2089.300049  2088.870117   \n",
       "4  2015-11-27  2093.290039  2084.129883  2088.820068  2090.110107   \n",
       "\n",
       "         Volume    Adj Close  \n",
       "0  3.587980e+09  2086.590088  \n",
       "1  3.884930e+09  2089.139893  \n",
       "2  2.852940e+09  2088.870117  \n",
       "3  2.852940e+09  2088.870117  \n",
       "4  1.466840e+09  2090.110107  "
      ]
     },
     "execution_count": 2,
     "metadata": {},
     "output_type": "execute_result"
    }
   ],
   "source": [
    "stock_data.head()"
   ]
  },
  {
   "cell_type": "markdown",
   "id": "2be6ae43",
   "metadata": {},
   "source": [
    "We can see that the data contains seven columns: `Date`, `High`, `Low`, `Open`, `Close`, `Volume`, and `Adj Close`.\n",
    "\n",
    "We will want to set the index of the DataFrame to the `Date` column to prepare for time series forecasting, and decide what other column(s) to use for the forecast itself. For now, we are going to use only the `Adj Close` column, which is the closing price of the S&P 500 index, [adjusted for dividends](https://www.investopedia.com/articles/investing/091015/how-dividends-affect-stock-prices.asp). Based on this decision, we modify the DataFrame to drop the other columns.\n",
    "\n",
    "We should also ensure that the data is sorted by its `Date` column."
   ]
  },
  {
   "cell_type": "code",
   "execution_count": 3,
   "id": "d3ee3181",
   "metadata": {},
   "outputs": [
    {
     "data": {
      "text/plain": [
       "Index(['Date', 'High', 'Low', 'Open', 'Close', 'Volume', 'Adj Close'], dtype='object')"
      ]
     },
     "execution_count": 3,
     "metadata": {},
     "output_type": "execute_result"
    }
   ],
   "source": [
    "stock_data.columns"
   ]
  },
  {
   "cell_type": "code",
   "execution_count": 4,
   "id": "f0d74b3f",
   "metadata": {},
   "outputs": [],
   "source": [
    "stock_data = stock_data[['Date','Adj Close']].sort_values(\"Date\")"
   ]
  },
  {
   "cell_type": "code",
   "execution_count": 5,
   "id": "bca847fd",
   "metadata": {},
   "outputs": [],
   "source": [
    "stock_data.set_index(\"Date\", inplace = True)"
   ]
  },
  {
   "cell_type": "code",
   "execution_count": 6,
   "id": "ced79e91",
   "metadata": {},
   "outputs": [
    {
     "data": {
      "text/html": [
       "<div>\n",
       "<style scoped>\n",
       "    .dataframe tbody tr th:only-of-type {\n",
       "        vertical-align: middle;\n",
       "    }\n",
       "\n",
       "    .dataframe tbody tr th {\n",
       "        vertical-align: top;\n",
       "    }\n",
       "\n",
       "    .dataframe thead th {\n",
       "        text-align: right;\n",
       "    }\n",
       "</style>\n",
       "<table border=\"1\" class=\"dataframe\">\n",
       "  <thead>\n",
       "    <tr style=\"text-align: right;\">\n",
       "      <th></th>\n",
       "      <th>Adj Close</th>\n",
       "    </tr>\n",
       "    <tr>\n",
       "      <th>Date</th>\n",
       "      <th></th>\n",
       "    </tr>\n",
       "  </thead>\n",
       "  <tbody>\n",
       "    <tr>\n",
       "      <th>2015-11-23</th>\n",
       "      <td>2086.590088</td>\n",
       "    </tr>\n",
       "    <tr>\n",
       "      <th>2015-11-24</th>\n",
       "      <td>2089.139893</td>\n",
       "    </tr>\n",
       "    <tr>\n",
       "      <th>2015-11-25</th>\n",
       "      <td>2088.870117</td>\n",
       "    </tr>\n",
       "    <tr>\n",
       "      <th>2015-11-26</th>\n",
       "      <td>2088.870117</td>\n",
       "    </tr>\n",
       "    <tr>\n",
       "      <th>2015-11-27</th>\n",
       "      <td>2090.110107</td>\n",
       "    </tr>\n",
       "  </tbody>\n",
       "</table>\n",
       "</div>"
      ],
      "text/plain": [
       "              Adj Close\n",
       "Date                   \n",
       "2015-11-23  2086.590088\n",
       "2015-11-24  2089.139893\n",
       "2015-11-25  2088.870117\n",
       "2015-11-26  2088.870117\n",
       "2015-11-27  2090.110107"
      ]
     },
     "execution_count": 6,
     "metadata": {},
     "output_type": "execute_result"
    }
   ],
   "source": [
    "stock_data.head()"
   ]
  },
  {
   "cell_type": "code",
   "execution_count": 7,
   "id": "1920303e",
   "metadata": {},
   "outputs": [
    {
     "name": "stdout",
     "output_type": "stream",
     "text": [
      "Info: \n",
      "<class 'pandas.core.frame.DataFrame'>\n",
      "Index: 1825 entries, 2015-11-23 to 2020-11-20\n",
      "Data columns (total 1 columns):\n",
      " #   Column     Non-Null Count  Dtype  \n",
      "---  ------     --------------  -----  \n",
      " 0   Adj Close  1825 non-null   float64\n",
      "dtypes: float64(1)\n",
      "memory usage: 28.5+ KB\n",
      "\n",
      "Describe: \n",
      "          Adj Close\n",
      "count  1825.000000\n",
      "mean   2647.856284\n",
      "std     407.301177\n",
      "min    1829.079956\n",
      "25%    2328.949951\n",
      "50%    2683.340088\n",
      "75%    2917.520020\n",
      "max    3626.909912\n",
      "\n",
      "Skew: \n",
      " Adj Close    0.081869\n",
      "dtype: float64\n"
     ]
    }
   ],
   "source": [
    "# Check for missing or erroneous values\n",
    "print(\"Info: \")\n",
    "stock_data.info()\n",
    "print(\"\\nDescribe: \\n\", stock_data.describe())\n",
    "print(\"\\nSkew: \\n\", stock_data.skew())"
   ]
  },
  {
   "cell_type": "markdown",
   "id": "8cfa2346",
   "metadata": {},
   "source": [
    "Great! No missing values, and everything seems to be within a reasonable range. The low skew value for `Adj Close` indicates we don't have any outliers to be concerned about.\n",
    "\n",
    "Before we begin preparing the data for modeling by scaling the variable to be forecasted (`Adj Close`) and splitting the dataset for training, validation, and testing, let's quickly visualize the data."
   ]
  },
  {
   "cell_type": "code",
   "execution_count": 8,
   "id": "4871150f",
   "metadata": {},
   "outputs": [
    {
     "data": {
      "image/png": "[encoded data removed]",
      "text/plain": [
       "<Figure size 640x480 with 1 Axes>"
      ]
     },
     "metadata": {},
     "output_type": "display_data"
    }
   ],
   "source": [
    "import matplotlib.pyplot as plt\n",
    "import matplotlib.dates as mdates\n",
    "\n",
    "plt.plot(stock_data)\n",
    "\n",
    "plt.title('S&P 500 Index')\n",
    "plt.xlabel('Date')\n",
    "plt.xticks(rotation=45)\n",
    "plt.ylabel('Adjusted Close')\n",
    "\n",
    "plt.gca().xaxis.set_major_locator(mdates.YearLocator())\n",
    "plt.gcf().autofmt_xdate()\n",
    "plt.show()"
   ]
  },
  {
   "cell_type": "markdown",
   "id": "9059c04e",
   "metadata": {},
   "source": [
    "The plot is looking great! We can see that we have data from about five years to work with. There are no gaps, and there are some visible dips and spikes.\n",
    "\n",
    "Clearly there is a pattern here (it's not just random noise), and we want to build a model that can predict that pattern. Before we can do that, we need to preprocess the data so we can build and train an RNN model. Let's move on to that data preprocessing."
   ]
  },
  {
   "cell_type": "markdown",
   "id": "836c2dbd",
   "metadata": {},
   "source": [
    "## 3\\. Data Preprocessing\n",
    "\n",
    "Before we can build and train an RNN model to make forecasts based on this data, we need to complete two preprocessing steps:\n",
    "\n",
    "-   Split the data into `train`, `validation`, and `test` sets, using 50% of the data for training and 25% each for validation and testing.\n",
    "-   Scale the data to between `0` and `1`, fitting the scaler to the training data and using the fitted scaler to scale all three datasets."
   ]
  },
  {
   "cell_type": "code",
   "execution_count": 9,
   "id": "27d8d2ec",
   "metadata": {},
   "outputs": [],
   "source": [
    "train_size = int(len(stock_data)*0.5)\n",
    "validation_size = int(len(stock_data)*.25)"
   ]
  },
  {
   "cell_type": "code",
   "execution_count": 10,
   "id": "66fba4f8",
   "metadata": {},
   "outputs": [
    {
     "data": {
      "text/plain": [
       "912"
      ]
     },
     "execution_count": 10,
     "metadata": {},
     "output_type": "execute_result"
    }
   ],
   "source": [
    "train_size"
   ]
  },
  {
   "cell_type": "code",
   "execution_count": 11,
   "id": "7590a0e5",
   "metadata": {},
   "outputs": [],
   "source": [
    "train_df = stock_data.iloc[0:train_size]\n",
    "\n",
    "validation_df = stock_data.iloc[train_size:train_size+validation_size]\n",
    "\n",
    "test_df = stock_data.iloc[train_size+validation_size:]"
   ]
  },
  {
   "cell_type": "code",
   "execution_count": 12,
   "id": "b6938424",
   "metadata": {},
   "outputs": [],
   "source": [
    "from sklearn.preprocessing import MinMaxScaler"
   ]
  },
  {
   "cell_type": "code",
   "execution_count": 13,
   "id": "40d00149",
   "metadata": {},
   "outputs": [
    {
     "data": {
      "text/html": [
       "<style>#sk-container-id-1 {color: black;}#sk-container-id-1 pre{padding: 0;}#sk-container-id-1 div.sk-toggleable {background-color: white;}#sk-container-id-1 label.sk-toggleable__label {cursor: pointer;display: block;width: 100%;margin-bottom: 0;padding: 0.3em;box-sizing: border-box;text-align: center;}#sk-container-id-1 label.sk-toggleable__label-arrow:before {content: \"▸\";float: left;margin-right: 0.25em;color: #696969;}#sk-container-id-1 label.sk-toggleable__label-arrow:hover:before {color: black;}#sk-container-id-1 div.sk-estimator:hover label.sk-toggleable__label-arrow:before {color: black;}#sk-container-id-1 div.sk-toggleable__content {max-height: 0;max-width: 0;overflow: hidden;text-align: left;background-color: #f0f8ff;}#sk-container-id-1 div.sk-toggleable__content pre {margin: 0.2em;color: black;border-radius: 0.25em;background-color: #f0f8ff;}#sk-container-id-1 input.sk-toggleable__control:checked~div.sk-toggleable__content {max-height: 200px;max-width: 100%;overflow: auto;}#sk-container-id-1 input.sk-toggleable__control:checked~label.sk-toggleable__label-arrow:before {content: \"▾\";}#sk-container-id-1 div.sk-estimator input.sk-toggleable__control:checked~label.sk-toggleable__label {background-color: #d4ebff;}#sk-container-id-1 div.sk-label input.sk-toggleable__control:checked~label.sk-toggleable__label {background-color: #d4ebff;}#sk-container-id-1 input.sk-hidden--visually {border: 0;clip: rect(1px 1px 1px 1px);clip: rect(1px, 1px, 1px, 1px);height: 1px;margin: -1px;overflow: hidden;padding: 0;position: absolute;width: 1px;}#sk-container-id-1 div.sk-estimator {font-family: monospace;background-color: #f0f8ff;border: 1px dotted black;border-radius: 0.25em;box-sizing: border-box;margin-bottom: 0.5em;}#sk-container-id-1 div.sk-estimator:hover {background-color: #d4ebff;}#sk-container-id-1 div.sk-parallel-item::after {content: \"\";width: 100%;border-bottom: 1px solid gray;flex-grow: 1;}#sk-container-id-1 div.sk-label:hover label.sk-toggleable__label {background-color: #d4ebff;}#sk-container-id-1 div.sk-serial::before {content: \"\";position: absolute;border-left: 1px solid gray;box-sizing: border-box;top: 0;bottom: 0;left: 50%;z-index: 0;}#sk-container-id-1 div.sk-serial {display: flex;flex-direction: column;align-items: center;background-color: white;padding-right: 0.2em;padding-left: 0.2em;position: relative;}#sk-container-id-1 div.sk-item {position: relative;z-index: 1;}#sk-container-id-1 div.sk-parallel {display: flex;align-items: stretch;justify-content: center;background-color: white;position: relative;}#sk-container-id-1 div.sk-item::before, #sk-container-id-1 div.sk-parallel-item::before {content: \"\";position: absolute;border-left: 1px solid gray;box-sizing: border-box;top: 0;bottom: 0;left: 50%;z-index: -1;}#sk-container-id-1 div.sk-parallel-item {display: flex;flex-direction: column;z-index: 1;position: relative;background-color: white;}#sk-container-id-1 div.sk-parallel-item:first-child::after {align-self: flex-end;width: 50%;}#sk-container-id-1 div.sk-parallel-item:last-child::after {align-self: flex-start;width: 50%;}#sk-container-id-1 div.sk-parallel-item:only-child::after {width: 0;}#sk-container-id-1 div.sk-dashed-wrapped {border: 1px dashed gray;margin: 0 0.4em 0.5em 0.4em;box-sizing: border-box;padding-bottom: 0.4em;background-color: white;}#sk-container-id-1 div.sk-label label {font-family: monospace;font-weight: bold;display: inline-block;line-height: 1.2em;}#sk-container-id-1 div.sk-label-container {text-align: center;}#sk-container-id-1 div.sk-container {/* jupyter's `normalize.less` sets `[hidden] { display: none; }` but bootstrap.min.css set `[hidden] { display: none !important; }` so we also need the `!important` here to be able to override the default hidden behavior on the sphinx rendered scikit-learn.org. See: https://github.com/scikit-learn/scikit-learn/issues/21755 */display: inline-block !important;position: relative;}#sk-container-id-1 div.sk-text-repr-fallback {display: none;}</style><div id=\"sk-container-id-1\" class=\"sk-top-container\"><div class=\"sk-text-repr-fallback\"><pre>MinMaxScaler()</pre><b>In a Jupyter environment, please rerun this cell to show the HTML representation or trust the notebook. <br />On GitHub, the HTML representation is unable to render, please try loading this page with nbviewer.org.</b></div><div class=\"sk-container\" hidden><div class=\"sk-item\"><div class=\"sk-estimator sk-toggleable\"><input class=\"sk-toggleable__control sk-hidden--visually\" id=\"sk-estimator-id-1\" type=\"checkbox\" checked><label for=\"sk-estimator-id-1\" class=\"sk-toggleable__label sk-toggleable__label-arrow\">MinMaxScaler</label><div class=\"sk-toggleable__content\"><pre>MinMaxScaler()</pre></div></div></div></div></div>"
      ],
      "text/plain": [
       "MinMaxScaler()"
      ]
     },
     "execution_count": 13,
     "metadata": {},
     "output_type": "execute_result"
    }
   ],
   "source": [
    "scaler = MinMaxScaler()\n",
    "\n",
    "scaler.fit(train_df)"
   ]
  },
  {
   "cell_type": "code",
   "execution_count": 14,
   "id": "dc04c27f",
   "metadata": {},
   "outputs": [],
   "source": [
    "train = pd.DataFrame(scaler.transform(train_df), columns=['Adj Close'], index=train_df.index)\n",
    "validation = pd.DataFrame(scaler.transform(validation_df), columns=['Adj Close'], index=validation_df.index)\n",
    "test = pd.DataFrame(scaler.transform(test_df), columns=['Adj Close'], index=test_df.index)"
   ]
  },
  {
   "cell_type": "markdown",
   "id": "b6a110e2",
   "metadata": {},
   "source": [
    "We will also want to shape our data into fixed-length time windows and reshape it into NumPy arrays to prepare it for TensorFlow models. \n",
    "* We will do this in a way that is repeatable and does not overwrite our `train`, `validation`, and `test` variables so that we have the freedom to modify this window size later."
   ]
  },
  {
   "cell_type": "code",
   "execution_count": 15,
   "id": "9dc7f43c",
   "metadata": {},
   "outputs": [],
   "source": [
    "import numpy as np\n",
    "\n",
    "def create_dataset(dataset, window_size=1):\n",
    "    data_x, data_y = [], []\n",
    "    for i in range(len(dataset) - window_size - 1):\n",
    "        window = dataset.iloc[i:(i + window_size), 0]\n",
    "        target = dataset.iloc[i + window_size, 0]\n",
    "        data_x.append(window)\n",
    "        data_y.append(target)\n",
    "    return np.array(data_x), np.array(data_y)\n"
   ]
  },
  {
   "cell_type": "code",
   "execution_count": 16,
   "id": "cf922768",
   "metadata": {},
   "outputs": [],
   "source": [
    "window_size = 10\n",
    "\n",
    "\n",
    "# Construct train, validation, and test datasets\n",
    "X_train, y_train = create_dataset(train, window_size)\n",
    "X_validation, y_validation = create_dataset(validation, window_size)\n",
    "X_test, y_test = create_dataset(test, window_size)"
   ]
  },
  {
   "cell_type": "code",
   "execution_count": 17,
   "id": "fd48c295",
   "metadata": {},
   "outputs": [
    {
     "data": {
      "text/plain": [
       "(901, 10)"
      ]
     },
     "execution_count": 17,
     "metadata": {},
     "output_type": "execute_result"
    }
   ],
   "source": [
    "X_train.shape"
   ]
  },
  {
   "cell_type": "code",
   "execution_count": 18,
   "id": "0629b936",
   "metadata": {},
   "outputs": [],
   "source": [
    "X_train = X_train.reshape(X_train.shape[0],1, X_train.shape[1]) \n",
    "X_validation = X_validation.reshape(X_validation.shape[0],1, X_validation.shape[1])\n",
    "X_test = np.reshape(X_test, (X_test.shape[0], 1, X_test.shape[1]))"
   ]
  },
  {
   "cell_type": "markdown",
   "id": "4582c9b2",
   "metadata": {},
   "source": [
    "## 4\\. Build and Train a Basic RNN Model\n",
    "\n",
    "Now comes the fun part! We've thoroughly prepared our data for modeling and now we need to build a TensorFlow model to make forecasts. Let's start with a `SimpleRNN` model."
   ]
  },
  {
   "cell_type": "code",
   "execution_count": 19,
   "id": "0af52608",
   "metadata": {},
   "outputs": [],
   "source": [
    "import tensorflow as tf\n",
    "# from tensorflow import keras\n",
    "# from tensorflow.keras import layers\n",
    "\n",
    "model = tf.keras.Sequential()\n",
    "model.add(tf.keras.Input(shape=(1,window_size)))\n",
    "model.add(tf.keras.layers.SimpleRNN(10, activation = \"relu\"))\n",
    "model.add(tf.keras.layers.Dense(10, activation=\"relu\"))\n",
    "model.add(tf.keras.layers.Dense(1))\n",
    "\n",
    "model.compile(loss= \"mean_squared_error\", optimizer = \"adam\")"
   ]
  },
  {
   "cell_type": "code",
   "execution_count": 20,
   "id": "c339c6ad",
   "metadata": {},
   "outputs": [
    {
     "data": {
      "text/html": [
       "<pre style=\"white-space:pre;overflow-x:auto;line-height:normal;font-family:Menlo,'DejaVu Sans Mono',consolas,'Courier New',monospace\"><span style=\"font-weight: bold\">Model: \"sequential\"</span>\n",
       "</pre>\n"
      ],
      "text/plain": [
       "\u001b[1mModel: \"sequential\"\u001b[0m\n"
      ]
     },
     "metadata": {},
     "output_type": "display_data"
    },
    {
     "data": {
      "text/html": [
       "<pre style=\"white-space:pre;overflow-x:auto;line-height:normal;font-family:Menlo,'DejaVu Sans Mono',consolas,'Courier New',monospace\">┏━━━━━━━━━━━━━━━━━━━━━━━━━━━━━━━━━━━━━━┳━━━━━━━━━━━━━━━━━━━━━━━━━━━━━┳━━━━━━━━━━━━━━━━━┓\n",
       "┃<span style=\"font-weight: bold\"> Layer (type)                         </span>┃<span style=\"font-weight: bold\"> Output Shape                </span>┃<span style=\"font-weight: bold\">         Param # </span>┃\n",
       "┡━━━━━━━━━━━━━━━━━━━━━━━━━━━━━━━━━━━━━━╇━━━━━━━━━━━━━━━━━━━━━━━━━━━━━╇━━━━━━━━━━━━━━━━━┩\n",
       "│ simple_rnn (<span style=\"color: #0087ff; text-decoration-color: #0087ff\">SimpleRNN</span>)               │ (<span style=\"color: #00d7ff; text-decoration-color: #00d7ff\">None</span>, <span style=\"color: #00af00; text-decoration-color: #00af00\">10</span>)                  │             <span style=\"color: #00af00; text-decoration-color: #00af00\">210</span> │\n",
       "├──────────────────────────────────────┼─────────────────────────────┼─────────────────┤\n",
       "│ dense (<span style=\"color: #0087ff; text-decoration-color: #0087ff\">Dense</span>)                        │ (<span style=\"color: #00d7ff; text-decoration-color: #00d7ff\">None</span>, <span style=\"color: #00af00; text-decoration-color: #00af00\">10</span>)                  │             <span style=\"color: #00af00; text-decoration-color: #00af00\">110</span> │\n",
       "├──────────────────────────────────────┼─────────────────────────────┼─────────────────┤\n",
       "│ dense_1 (<span style=\"color: #0087ff; text-decoration-color: #0087ff\">Dense</span>)                      │ (<span style=\"color: #00d7ff; text-decoration-color: #00d7ff\">None</span>, <span style=\"color: #00af00; text-decoration-color: #00af00\">1</span>)                   │              <span style=\"color: #00af00; text-decoration-color: #00af00\">11</span> │\n",
       "└──────────────────────────────────────┴─────────────────────────────┴─────────────────┘\n",
       "</pre>\n"
      ],
      "text/plain": [
       "┏━━━━━━━━━━━━━━━━━━━━━━━━━━━━━━━━━━━━━━┳━━━━━━━━━━━━━━━━━━━━━━━━━━━━━┳━━━━━━━━━━━━━━━━━┓\n",
       "┃\u001b[1m \u001b[0m\u001b[1mLayer (type)                        \u001b[0m\u001b[1m \u001b[0m┃\u001b[1m \u001b[0m\u001b[1mOutput Shape               \u001b[0m\u001b[1m \u001b[0m┃\u001b[1m \u001b[0m\u001b[1m        Param #\u001b[0m\u001b[1m \u001b[0m┃\n",
       "┡━━━━━━━━━━━━━━━━━━━━━━━━━━━━━━━━━━━━━━╇━━━━━━━━━━━━━━━━━━━━━━━━━━━━━╇━━━━━━━━━━━━━━━━━┩\n",
       "│ simple_rnn (\u001b[38;5;33mSimpleRNN\u001b[0m)               │ (\u001b[38;5;45mNone\u001b[0m, \u001b[38;5;34m10\u001b[0m)                  │             \u001b[38;5;34m210\u001b[0m │\n",
       "├──────────────────────────────────────┼─────────────────────────────┼─────────────────┤\n",
       "│ dense (\u001b[38;5;33mDense\u001b[0m)                        │ (\u001b[38;5;45mNone\u001b[0m, \u001b[38;5;34m10\u001b[0m)                  │             \u001b[38;5;34m110\u001b[0m │\n",
       "├──────────────────────────────────────┼─────────────────────────────┼─────────────────┤\n",
       "│ dense_1 (\u001b[38;5;33mDense\u001b[0m)                      │ (\u001b[38;5;45mNone\u001b[0m, \u001b[38;5;34m1\u001b[0m)                   │              \u001b[38;5;34m11\u001b[0m │\n",
       "└──────────────────────────────────────┴─────────────────────────────┴─────────────────┘\n"
      ]
     },
     "metadata": {},
     "output_type": "display_data"
    },
    {
     "data": {
      "text/html": [
       "<pre style=\"white-space:pre;overflow-x:auto;line-height:normal;font-family:Menlo,'DejaVu Sans Mono',consolas,'Courier New',monospace\"><span style=\"font-weight: bold\"> Total params: </span><span style=\"color: #00af00; text-decoration-color: #00af00\">331</span> (1.29 KB)\n",
       "</pre>\n"
      ],
      "text/plain": [
       "\u001b[1m Total params: \u001b[0m\u001b[38;5;34m331\u001b[0m (1.29 KB)\n"
      ]
     },
     "metadata": {},
     "output_type": "display_data"
    },
    {
     "data": {
      "text/html": [
       "<pre style=\"white-space:pre;overflow-x:auto;line-height:normal;font-family:Menlo,'DejaVu Sans Mono',consolas,'Courier New',monospace\"><span style=\"font-weight: bold\"> Trainable params: </span><span style=\"color: #00af00; text-decoration-color: #00af00\">331</span> (1.29 KB)\n",
       "</pre>\n"
      ],
      "text/plain": [
       "\u001b[1m Trainable params: \u001b[0m\u001b[38;5;34m331\u001b[0m (1.29 KB)\n"
      ]
     },
     "metadata": {},
     "output_type": "display_data"
    },
    {
     "data": {
      "text/html": [
       "<pre style=\"white-space:pre;overflow-x:auto;line-height:normal;font-family:Menlo,'DejaVu Sans Mono',consolas,'Courier New',monospace\"><span style=\"font-weight: bold\"> Non-trainable params: </span><span style=\"color: #00af00; text-decoration-color: #00af00\">0</span> (0.00 B)\n",
       "</pre>\n"
      ],
      "text/plain": [
       "\u001b[1m Non-trainable params: \u001b[0m\u001b[38;5;34m0\u001b[0m (0.00 B)\n"
      ]
     },
     "metadata": {},
     "output_type": "display_data"
    }
   ],
   "source": [
    "model.summary()"
   ]
  },
  {
   "cell_type": "markdown",
   "id": "798fa3be",
   "metadata": {},
   "source": [
    "Great! And now that we've built the model, let's train it on our training dataset and evaluate its performance using the validation dataset. Note that we are *not* using the `test` dataset yet because we want to have a clean, untouched testing dataset for our final model evaluation. We may have skipped this step in previous lessons for simplicity, but it is a best practice to set aside an untouched testing set during the model optimization process."
   ]
  },
  {
   "cell_type": "code",
   "execution_count": 21,
   "id": "2d0562d4",
   "metadata": {},
   "outputs": [
    {
     "name": "stdout",
     "output_type": "stream",
     "text": [
      "\u001b[1m29/29\u001b[0m \u001b[32m━━━━━━━━━━━━━━━━━━━━\u001b[0m\u001b[37m\u001b[0m \u001b[1m2s\u001b[0m 2ms/step - loss: 0.0237\n"
     ]
    },
    {
     "data": {
      "text/plain": [
       "<keras.src.callbacks.history.History at 0x2b112b28a10>"
      ]
     },
     "execution_count": 21,
     "metadata": {},
     "output_type": "execute_result"
    }
   ],
   "source": [
    "model.fit(X_train,y_train)"
   ]
  },
  {
   "cell_type": "code",
   "execution_count": 22,
   "id": "679a0104",
   "metadata": {},
   "outputs": [
    {
     "name": "stdout",
     "output_type": "stream",
     "text": [
      "\u001b[1m14/14\u001b[0m \u001b[32m━━━━━━━━━━━━━━━━━━━━\u001b[0m\u001b[37m\u001b[0m \u001b[1m0s\u001b[0m 13ms/step\n"
     ]
    }
   ],
   "source": [
    "y_predict = model.predict(X_validation)"
   ]
  },
  {
   "cell_type": "code",
   "execution_count": 23,
   "id": "216282d6",
   "metadata": {},
   "outputs": [
    {
     "data": {
      "text/plain": [
       "0.20769183461158747"
      ]
     },
     "execution_count": 23,
     "metadata": {},
     "output_type": "execute_result"
    }
   ],
   "source": [
    "from sklearn.metrics import r2_score\n",
    "\n",
    "r2_score(y_predict, y_validation)"
   ]
  },
  {
   "cell_type": "markdown",
   "id": "d934d5a9",
   "metadata": {},
   "source": [
    "Yikes! That R-Squared score is not looking very good. Let's see if we can improve upon this model."
   ]
  },
  {
   "cell_type": "markdown",
   "id": "6178be5d",
   "metadata": {},
   "source": [
    "## 5\\. Build and Train an LSTM Model\n",
    "\n",
    "Let's repeat the above steps for an LSTM model and see if we can improve performance."
   ]
  },
  {
   "cell_type": "code",
   "execution_count": 24,
   "id": "4f7b658e",
   "metadata": {},
   "outputs": [
    {
     "data": {
      "text/html": [
       "<pre style=\"white-space:pre;overflow-x:auto;line-height:normal;font-family:Menlo,'DejaVu Sans Mono',consolas,'Courier New',monospace\"><span style=\"font-weight: bold\">Model: \"sequential_1\"</span>\n",
       "</pre>\n"
      ],
      "text/plain": [
       "\u001b[1mModel: \"sequential_1\"\u001b[0m\n"
      ]
     },
     "metadata": {},
     "output_type": "display_data"
    },
    {
     "data": {
      "text/html": [
       "<pre style=\"white-space:pre;overflow-x:auto;line-height:normal;font-family:Menlo,'DejaVu Sans Mono',consolas,'Courier New',monospace\">┏━━━━━━━━━━━━━━━━━━━━━━━━━━━━━━━━━━━━━━┳━━━━━━━━━━━━━━━━━━━━━━━━━━━━━┳━━━━━━━━━━━━━━━━━┓\n",
       "┃<span style=\"font-weight: bold\"> Layer (type)                         </span>┃<span style=\"font-weight: bold\"> Output Shape                </span>┃<span style=\"font-weight: bold\">         Param # </span>┃\n",
       "┡━━━━━━━━━━━━━━━━━━━━━━━━━━━━━━━━━━━━━━╇━━━━━━━━━━━━━━━━━━━━━━━━━━━━━╇━━━━━━━━━━━━━━━━━┩\n",
       "│ lstm (<span style=\"color: #0087ff; text-decoration-color: #0087ff\">LSTM</span>)                          │ (<span style=\"color: #00d7ff; text-decoration-color: #00d7ff\">None</span>, <span style=\"color: #00af00; text-decoration-color: #00af00\">10</span>)                  │             <span style=\"color: #00af00; text-decoration-color: #00af00\">840</span> │\n",
       "├──────────────────────────────────────┼─────────────────────────────┼─────────────────┤\n",
       "│ dense_2 (<span style=\"color: #0087ff; text-decoration-color: #0087ff\">Dense</span>)                      │ (<span style=\"color: #00d7ff; text-decoration-color: #00d7ff\">None</span>, <span style=\"color: #00af00; text-decoration-color: #00af00\">10</span>)                  │             <span style=\"color: #00af00; text-decoration-color: #00af00\">110</span> │\n",
       "├──────────────────────────────────────┼─────────────────────────────┼─────────────────┤\n",
       "│ dense_3 (<span style=\"color: #0087ff; text-decoration-color: #0087ff\">Dense</span>)                      │ (<span style=\"color: #00d7ff; text-decoration-color: #00d7ff\">None</span>, <span style=\"color: #00af00; text-decoration-color: #00af00\">1</span>)                   │              <span style=\"color: #00af00; text-decoration-color: #00af00\">11</span> │\n",
       "└──────────────────────────────────────┴─────────────────────────────┴─────────────────┘\n",
       "</pre>\n"
      ],
      "text/plain": [
       "┏━━━━━━━━━━━━━━━━━━━━━━━━━━━━━━━━━━━━━━┳━━━━━━━━━━━━━━━━━━━━━━━━━━━━━┳━━━━━━━━━━━━━━━━━┓\n",
       "┃\u001b[1m \u001b[0m\u001b[1mLayer (type)                        \u001b[0m\u001b[1m \u001b[0m┃\u001b[1m \u001b[0m\u001b[1mOutput Shape               \u001b[0m\u001b[1m \u001b[0m┃\u001b[1m \u001b[0m\u001b[1m        Param #\u001b[0m\u001b[1m \u001b[0m┃\n",
       "┡━━━━━━━━━━━━━━━━━━━━━━━━━━━━━━━━━━━━━━╇━━━━━━━━━━━━━━━━━━━━━━━━━━━━━╇━━━━━━━━━━━━━━━━━┩\n",
       "│ lstm (\u001b[38;5;33mLSTM\u001b[0m)                          │ (\u001b[38;5;45mNone\u001b[0m, \u001b[38;5;34m10\u001b[0m)                  │             \u001b[38;5;34m840\u001b[0m │\n",
       "├──────────────────────────────────────┼─────────────────────────────┼─────────────────┤\n",
       "│ dense_2 (\u001b[38;5;33mDense\u001b[0m)                      │ (\u001b[38;5;45mNone\u001b[0m, \u001b[38;5;34m10\u001b[0m)                  │             \u001b[38;5;34m110\u001b[0m │\n",
       "├──────────────────────────────────────┼─────────────────────────────┼─────────────────┤\n",
       "│ dense_3 (\u001b[38;5;33mDense\u001b[0m)                      │ (\u001b[38;5;45mNone\u001b[0m, \u001b[38;5;34m1\u001b[0m)                   │              \u001b[38;5;34m11\u001b[0m │\n",
       "└──────────────────────────────────────┴─────────────────────────────┴─────────────────┘\n"
      ]
     },
     "metadata": {},
     "output_type": "display_data"
    },
    {
     "data": {
      "text/html": [
       "<pre style=\"white-space:pre;overflow-x:auto;line-height:normal;font-family:Menlo,'DejaVu Sans Mono',consolas,'Courier New',monospace\"><span style=\"font-weight: bold\"> Total params: </span><span style=\"color: #00af00; text-decoration-color: #00af00\">961</span> (3.75 KB)\n",
       "</pre>\n"
      ],
      "text/plain": [
       "\u001b[1m Total params: \u001b[0m\u001b[38;5;34m961\u001b[0m (3.75 KB)\n"
      ]
     },
     "metadata": {},
     "output_type": "display_data"
    },
    {
     "data": {
      "text/html": [
       "<pre style=\"white-space:pre;overflow-x:auto;line-height:normal;font-family:Menlo,'DejaVu Sans Mono',consolas,'Courier New',monospace\"><span style=\"font-weight: bold\"> Trainable params: </span><span style=\"color: #00af00; text-decoration-color: #00af00\">961</span> (3.75 KB)\n",
       "</pre>\n"
      ],
      "text/plain": [
       "\u001b[1m Trainable params: \u001b[0m\u001b[38;5;34m961\u001b[0m (3.75 KB)\n"
      ]
     },
     "metadata": {},
     "output_type": "display_data"
    },
    {
     "data": {
      "text/html": [
       "<pre style=\"white-space:pre;overflow-x:auto;line-height:normal;font-family:Menlo,'DejaVu Sans Mono',consolas,'Courier New',monospace\"><span style=\"font-weight: bold\"> Non-trainable params: </span><span style=\"color: #00af00; text-decoration-color: #00af00\">0</span> (0.00 B)\n",
       "</pre>\n"
      ],
      "text/plain": [
       "\u001b[1m Non-trainable params: \u001b[0m\u001b[38;5;34m0\u001b[0m (0.00 B)\n"
      ]
     },
     "metadata": {},
     "output_type": "display_data"
    }
   ],
   "source": [
    "# Build the model\n",
    "model = tf.keras.Sequential()\n",
    "model.add(tf.keras.Input(shape = (1, window_size)))\n",
    "model.add(tf.keras.layers.LSTM(10,activation='relu'))\n",
    "model.add(tf.keras.layers.Dense(10, activation='relu'))\n",
    "model.add(tf.keras.layers.Dense(1))\n",
    "model.compile(optimizer='adam', loss='mean_squared_error')\n",
    "model.summary()"
   ]
  },
  {
   "cell_type": "code",
   "execution_count": 25,
   "id": "a3995219",
   "metadata": {},
   "outputs": [
    {
     "name": "stdout",
     "output_type": "stream",
     "text": [
      "\u001b[1m29/29\u001b[0m \u001b[32m━━━━━━━━━━━━━━━━━━━━\u001b[0m\u001b[37m\u001b[0m \u001b[1m2s\u001b[0m 2ms/step - loss: 0.2915\n"
     ]
    },
    {
     "data": {
      "text/plain": [
       "<keras.src.callbacks.history.History at 0x2b11e67d6d0>"
      ]
     },
     "execution_count": 25,
     "metadata": {},
     "output_type": "execute_result"
    }
   ],
   "source": [
    "# Train the model\n",
    "model.fit(X_train, y_train)"
   ]
  },
  {
   "cell_type": "code",
   "execution_count": 26,
   "id": "d29a67bc",
   "metadata": {},
   "outputs": [
    {
     "name": "stdout",
     "output_type": "stream",
     "text": [
      "\u001b[1m14/14\u001b[0m \u001b[32m━━━━━━━━━━━━━━━━━━━━\u001b[0m\u001b[37m\u001b[0m \u001b[1m0s\u001b[0m 14ms/step\n"
     ]
    }
   ],
   "source": [
    "# Make predictions and evaluate\n",
    "y_pred = model.predict(X_validation)"
   ]
  },
  {
   "cell_type": "code",
   "execution_count": 27,
   "id": "79c70325",
   "metadata": {},
   "outputs": [
    {
     "data": {
      "text/plain": [
       "-50.87859338480775"
      ]
     },
     "execution_count": 27,
     "metadata": {},
     "output_type": "execute_result"
    }
   ],
   "source": [
    "r2_score(y_validation, y_pred)"
   ]
  },
  {
   "cell_type": "markdown",
   "id": "3e8376de",
   "metadata": {},
   "source": [
    "That didn't improve things like we hoped. For now, let's keep the LSTM in place until we're ready to fully optimize the model, and we can decide then whether it's worth keeping. For now, let's move onto the next section to see what other techniques we can try to improve this model."
   ]
  },
  {
   "cell_type": "markdown",
   "id": "efb537e7",
   "metadata": {},
   "source": [
    "## 6\\. Add a Convolutional Layer\n",
    "\n",
    "Next, we are going to branch out a bit from the basic RNN or LSTM model and try adding a convolutional layer to see if this improves the model performance."
   ]
  },
  {
   "cell_type": "code",
   "execution_count": 28,
   "id": "47104309",
   "metadata": {},
   "outputs": [
    {
     "name": "stderr",
     "output_type": "stream",
     "text": [
      "C:\\Users\\CGDC\\anaconda3\\Lib\\site-packages\\keras\\src\\layers\\convolutional\\base_conv.py:107: UserWarning: Do not pass an `input_shape`/`input_dim` argument to a layer. When using Sequential models, prefer using an `Input(shape)` object as the first layer in the model instead.\n",
      "  super().__init__(activity_regularizer=activity_regularizer, **kwargs)\n"
     ]
    },
    {
     "data": {
      "text/html": [
       "<pre style=\"white-space:pre;overflow-x:auto;line-height:normal;font-family:Menlo,'DejaVu Sans Mono',consolas,'Courier New',monospace\"><span style=\"font-weight: bold\">Model: \"sequential_2\"</span>\n",
       "</pre>\n"
      ],
      "text/plain": [
       "\u001b[1mModel: \"sequential_2\"\u001b[0m\n"
      ]
     },
     "metadata": {},
     "output_type": "display_data"
    },
    {
     "data": {
      "text/html": [
       "<pre style=\"white-space:pre;overflow-x:auto;line-height:normal;font-family:Menlo,'DejaVu Sans Mono',consolas,'Courier New',monospace\">┏━━━━━━━━━━━━━━━━━━━━━━━━━━━━━━━━━━━━━━┳━━━━━━━━━━━━━━━━━━━━━━━━━━━━━┳━━━━━━━━━━━━━━━━━┓\n",
       "┃<span style=\"font-weight: bold\"> Layer (type)                         </span>┃<span style=\"font-weight: bold\"> Output Shape                </span>┃<span style=\"font-weight: bold\">         Param # </span>┃\n",
       "┡━━━━━━━━━━━━━━━━━━━━━━━━━━━━━━━━━━━━━━╇━━━━━━━━━━━━━━━━━━━━━━━━━━━━━╇━━━━━━━━━━━━━━━━━┩\n",
       "│ conv1d (<span style=\"color: #0087ff; text-decoration-color: #0087ff\">Conv1D</span>)                      │ (<span style=\"color: #00d7ff; text-decoration-color: #00d7ff\">None</span>, <span style=\"color: #00af00; text-decoration-color: #00af00\">1</span>, <span style=\"color: #00af00; text-decoration-color: #00af00\">64</span>)               │             <span style=\"color: #00af00; text-decoration-color: #00af00\">704</span> │\n",
       "├──────────────────────────────────────┼─────────────────────────────┼─────────────────┤\n",
       "│ max_pooling1d (<span style=\"color: #0087ff; text-decoration-color: #0087ff\">MaxPooling1D</span>)         │ (<span style=\"color: #00d7ff; text-decoration-color: #00d7ff\">None</span>, <span style=\"color: #00af00; text-decoration-color: #00af00\">1</span>, <span style=\"color: #00af00; text-decoration-color: #00af00\">64</span>)               │               <span style=\"color: #00af00; text-decoration-color: #00af00\">0</span> │\n",
       "├──────────────────────────────────────┼─────────────────────────────┼─────────────────┤\n",
       "│ lstm_1 (<span style=\"color: #0087ff; text-decoration-color: #0087ff\">LSTM</span>)                        │ (<span style=\"color: #00d7ff; text-decoration-color: #00d7ff\">None</span>, <span style=\"color: #00af00; text-decoration-color: #00af00\">10</span>)                  │           <span style=\"color: #00af00; text-decoration-color: #00af00\">3,000</span> │\n",
       "├──────────────────────────────────────┼─────────────────────────────┼─────────────────┤\n",
       "│ dense_4 (<span style=\"color: #0087ff; text-decoration-color: #0087ff\">Dense</span>)                      │ (<span style=\"color: #00d7ff; text-decoration-color: #00d7ff\">None</span>, <span style=\"color: #00af00; text-decoration-color: #00af00\">10</span>)                  │             <span style=\"color: #00af00; text-decoration-color: #00af00\">110</span> │\n",
       "├──────────────────────────────────────┼─────────────────────────────┼─────────────────┤\n",
       "│ dense_5 (<span style=\"color: #0087ff; text-decoration-color: #0087ff\">Dense</span>)                      │ (<span style=\"color: #00d7ff; text-decoration-color: #00d7ff\">None</span>, <span style=\"color: #00af00; text-decoration-color: #00af00\">1</span>)                   │              <span style=\"color: #00af00; text-decoration-color: #00af00\">11</span> │\n",
       "└──────────────────────────────────────┴─────────────────────────────┴─────────────────┘\n",
       "</pre>\n"
      ],
      "text/plain": [
       "┏━━━━━━━━━━━━━━━━━━━━━━━━━━━━━━━━━━━━━━┳━━━━━━━━━━━━━━━━━━━━━━━━━━━━━┳━━━━━━━━━━━━━━━━━┓\n",
       "┃\u001b[1m \u001b[0m\u001b[1mLayer (type)                        \u001b[0m\u001b[1m \u001b[0m┃\u001b[1m \u001b[0m\u001b[1mOutput Shape               \u001b[0m\u001b[1m \u001b[0m┃\u001b[1m \u001b[0m\u001b[1m        Param #\u001b[0m\u001b[1m \u001b[0m┃\n",
       "┡━━━━━━━━━━━━━━━━━━━━━━━━━━━━━━━━━━━━━━╇━━━━━━━━━━━━━━━━━━━━━━━━━━━━━╇━━━━━━━━━━━━━━━━━┩\n",
       "│ conv1d (\u001b[38;5;33mConv1D\u001b[0m)                      │ (\u001b[38;5;45mNone\u001b[0m, \u001b[38;5;34m1\u001b[0m, \u001b[38;5;34m64\u001b[0m)               │             \u001b[38;5;34m704\u001b[0m │\n",
       "├──────────────────────────────────────┼─────────────────────────────┼─────────────────┤\n",
       "│ max_pooling1d (\u001b[38;5;33mMaxPooling1D\u001b[0m)         │ (\u001b[38;5;45mNone\u001b[0m, \u001b[38;5;34m1\u001b[0m, \u001b[38;5;34m64\u001b[0m)               │               \u001b[38;5;34m0\u001b[0m │\n",
       "├──────────────────────────────────────┼─────────────────────────────┼─────────────────┤\n",
       "│ lstm_1 (\u001b[38;5;33mLSTM\u001b[0m)                        │ (\u001b[38;5;45mNone\u001b[0m, \u001b[38;5;34m10\u001b[0m)                  │           \u001b[38;5;34m3,000\u001b[0m │\n",
       "├──────────────────────────────────────┼─────────────────────────────┼─────────────────┤\n",
       "│ dense_4 (\u001b[38;5;33mDense\u001b[0m)                      │ (\u001b[38;5;45mNone\u001b[0m, \u001b[38;5;34m10\u001b[0m)                  │             \u001b[38;5;34m110\u001b[0m │\n",
       "├──────────────────────────────────────┼─────────────────────────────┼─────────────────┤\n",
       "│ dense_5 (\u001b[38;5;33mDense\u001b[0m)                      │ (\u001b[38;5;45mNone\u001b[0m, \u001b[38;5;34m1\u001b[0m)                   │              \u001b[38;5;34m11\u001b[0m │\n",
       "└──────────────────────────────────────┴─────────────────────────────┴─────────────────┘\n"
      ]
     },
     "metadata": {},
     "output_type": "display_data"
    },
    {
     "data": {
      "text/html": [
       "<pre style=\"white-space:pre;overflow-x:auto;line-height:normal;font-family:Menlo,'DejaVu Sans Mono',consolas,'Courier New',monospace\"><span style=\"font-weight: bold\"> Total params: </span><span style=\"color: #00af00; text-decoration-color: #00af00\">3,825</span> (14.94 KB)\n",
       "</pre>\n"
      ],
      "text/plain": [
       "\u001b[1m Total params: \u001b[0m\u001b[38;5;34m3,825\u001b[0m (14.94 KB)\n"
      ]
     },
     "metadata": {},
     "output_type": "display_data"
    },
    {
     "data": {
      "text/html": [
       "<pre style=\"white-space:pre;overflow-x:auto;line-height:normal;font-family:Menlo,'DejaVu Sans Mono',consolas,'Courier New',monospace\"><span style=\"font-weight: bold\"> Trainable params: </span><span style=\"color: #00af00; text-decoration-color: #00af00\">3,825</span> (14.94 KB)\n",
       "</pre>\n"
      ],
      "text/plain": [
       "\u001b[1m Trainable params: \u001b[0m\u001b[38;5;34m3,825\u001b[0m (14.94 KB)\n"
      ]
     },
     "metadata": {},
     "output_type": "display_data"
    },
    {
     "data": {
      "text/html": [
       "<pre style=\"white-space:pre;overflow-x:auto;line-height:normal;font-family:Menlo,'DejaVu Sans Mono',consolas,'Courier New',monospace\"><span style=\"font-weight: bold\"> Non-trainable params: </span><span style=\"color: #00af00; text-decoration-color: #00af00\">0</span> (0.00 B)\n",
       "</pre>\n"
      ],
      "text/plain": [
       "\u001b[1m Non-trainable params: \u001b[0m\u001b[38;5;34m0\u001b[0m (0.00 B)\n"
      ]
     },
     "metadata": {},
     "output_type": "display_data"
    },
    {
     "name": "stdout",
     "output_type": "stream",
     "text": [
      "\u001b[1m29/29\u001b[0m \u001b[32m━━━━━━━━━━━━━━━━━━━━\u001b[0m\u001b[37m\u001b[0m \u001b[1m2s\u001b[0m 3ms/step - loss: 0.1779\n",
      "\u001b[1m14/14\u001b[0m \u001b[32m━━━━━━━━━━━━━━━━━━━━\u001b[0m\u001b[37m\u001b[0m \u001b[1m0s\u001b[0m 16ms/step\n",
      "-0.7438010968691957\n"
     ]
    }
   ],
   "source": [
    "# Build the model\n",
    "model = tf.keras.Sequential()\n",
    "model.add(tf.keras.layers.Conv1D(64, 1, activation=\"relu\", input_shape=(1, window_size)))\n",
    "model.add(tf.keras.layers.MaxPooling1D(1))\n",
    "model.add(tf.keras.layers.LSTM(10, activation='relu'))\n",
    "model.add(tf.keras.layers.Dense(10, activation='relu'))\n",
    "model.add(tf.keras.layers.Dense(1))\n",
    "model.compile(optimizer='adam', loss='mean_squared_error')\n",
    "model.summary()\n",
    "\n",
    "# Train the model\n",
    "model.fit(X_train, y_train)\n",
    "\n",
    "# Make predictions and evaluate\n",
    "y_pred = model.predict(X_validation)\n",
    "print(r2_score(y_validation, y_pred))"
   ]
  },
  {
   "cell_type": "markdown",
   "id": "d3fbd739",
   "metadata": {},
   "source": [
    "These are still pretty terrible results. Let's go further and try modifying other model parameters to fully optimize this model, at which point we may or may not keep the convolutional layer."
   ]
  },
  {
   "cell_type": "code",
   "execution_count": 29,
   "id": "bfa00e33",
   "metadata": {},
   "outputs": [
    {
     "name": "stderr",
     "output_type": "stream",
     "text": [
      "C:\\Users\\CGDC\\anaconda3\\Lib\\site-packages\\keras\\src\\layers\\convolutional\\base_conv.py:107: UserWarning: Do not pass an `input_shape`/`input_dim` argument to a layer. When using Sequential models, prefer using an `Input(shape)` object as the first layer in the model instead.\n",
      "  super().__init__(activity_regularizer=activity_regularizer, **kwargs)\n"
     ]
    },
    {
     "data": {
      "text/html": [
       "<pre style=\"white-space:pre;overflow-x:auto;line-height:normal;font-family:Menlo,'DejaVu Sans Mono',consolas,'Courier New',monospace\"><span style=\"font-weight: bold\">Model: \"sequential_3\"</span>\n",
       "</pre>\n"
      ],
      "text/plain": [
       "\u001b[1mModel: \"sequential_3\"\u001b[0m\n"
      ]
     },
     "metadata": {},
     "output_type": "display_data"
    },
    {
     "data": {
      "text/html": [
       "<pre style=\"white-space:pre;overflow-x:auto;line-height:normal;font-family:Menlo,'DejaVu Sans Mono',consolas,'Courier New',monospace\">┏━━━━━━━━━━━━━━━━━━━━━━━━━━━━━━━━━━━━━━┳━━━━━━━━━━━━━━━━━━━━━━━━━━━━━┳━━━━━━━━━━━━━━━━━┓\n",
       "┃<span style=\"font-weight: bold\"> Layer (type)                         </span>┃<span style=\"font-weight: bold\"> Output Shape                </span>┃<span style=\"font-weight: bold\">         Param # </span>┃\n",
       "┡━━━━━━━━━━━━━━━━━━━━━━━━━━━━━━━━━━━━━━╇━━━━━━━━━━━━━━━━━━━━━━━━━━━━━╇━━━━━━━━━━━━━━━━━┩\n",
       "│ conv1d_1 (<span style=\"color: #0087ff; text-decoration-color: #0087ff\">Conv1D</span>)                    │ (<span style=\"color: #00d7ff; text-decoration-color: #00d7ff\">None</span>, <span style=\"color: #00af00; text-decoration-color: #00af00\">1</span>, <span style=\"color: #00af00; text-decoration-color: #00af00\">128</span>)              │           <span style=\"color: #00af00; text-decoration-color: #00af00\">3,328</span> │\n",
       "├──────────────────────────────────────┼─────────────────────────────┼─────────────────┤\n",
       "│ max_pooling1d_1 (<span style=\"color: #0087ff; text-decoration-color: #0087ff\">MaxPooling1D</span>)       │ (<span style=\"color: #00d7ff; text-decoration-color: #00d7ff\">None</span>, <span style=\"color: #00af00; text-decoration-color: #00af00\">1</span>, <span style=\"color: #00af00; text-decoration-color: #00af00\">128</span>)              │               <span style=\"color: #00af00; text-decoration-color: #00af00\">0</span> │\n",
       "├──────────────────────────────────────┼─────────────────────────────┼─────────────────┤\n",
       "│ lstm_2 (<span style=\"color: #0087ff; text-decoration-color: #0087ff\">LSTM</span>)                        │ (<span style=\"color: #00d7ff; text-decoration-color: #00d7ff\">None</span>, <span style=\"color: #00af00; text-decoration-color: #00af00\">64</span>)                  │          <span style=\"color: #00af00; text-decoration-color: #00af00\">49,408</span> │\n",
       "├──────────────────────────────────────┼─────────────────────────────┼─────────────────┤\n",
       "│ dense_6 (<span style=\"color: #0087ff; text-decoration-color: #0087ff\">Dense</span>)                      │ (<span style=\"color: #00d7ff; text-decoration-color: #00d7ff\">None</span>, <span style=\"color: #00af00; text-decoration-color: #00af00\">32</span>)                  │           <span style=\"color: #00af00; text-decoration-color: #00af00\">2,080</span> │\n",
       "├──────────────────────────────────────┼─────────────────────────────┼─────────────────┤\n",
       "│ dense_7 (<span style=\"color: #0087ff; text-decoration-color: #0087ff\">Dense</span>)                      │ (<span style=\"color: #00d7ff; text-decoration-color: #00d7ff\">None</span>, <span style=\"color: #00af00; text-decoration-color: #00af00\">16</span>)                  │             <span style=\"color: #00af00; text-decoration-color: #00af00\">528</span> │\n",
       "├──────────────────────────────────────┼─────────────────────────────┼─────────────────┤\n",
       "│ dense_8 (<span style=\"color: #0087ff; text-decoration-color: #0087ff\">Dense</span>)                      │ (<span style=\"color: #00d7ff; text-decoration-color: #00d7ff\">None</span>, <span style=\"color: #00af00; text-decoration-color: #00af00\">1</span>)                   │              <span style=\"color: #00af00; text-decoration-color: #00af00\">17</span> │\n",
       "└──────────────────────────────────────┴─────────────────────────────┴─────────────────┘\n",
       "</pre>\n"
      ],
      "text/plain": [
       "┏━━━━━━━━━━━━━━━━━━━━━━━━━━━━━━━━━━━━━━┳━━━━━━━━━━━━━━━━━━━━━━━━━━━━━┳━━━━━━━━━━━━━━━━━┓\n",
       "┃\u001b[1m \u001b[0m\u001b[1mLayer (type)                        \u001b[0m\u001b[1m \u001b[0m┃\u001b[1m \u001b[0m\u001b[1mOutput Shape               \u001b[0m\u001b[1m \u001b[0m┃\u001b[1m \u001b[0m\u001b[1m        Param #\u001b[0m\u001b[1m \u001b[0m┃\n",
       "┡━━━━━━━━━━━━━━━━━━━━━━━━━━━━━━━━━━━━━━╇━━━━━━━━━━━━━━━━━━━━━━━━━━━━━╇━━━━━━━━━━━━━━━━━┩\n",
       "│ conv1d_1 (\u001b[38;5;33mConv1D\u001b[0m)                    │ (\u001b[38;5;45mNone\u001b[0m, \u001b[38;5;34m1\u001b[0m, \u001b[38;5;34m128\u001b[0m)              │           \u001b[38;5;34m3,328\u001b[0m │\n",
       "├──────────────────────────────────────┼─────────────────────────────┼─────────────────┤\n",
       "│ max_pooling1d_1 (\u001b[38;5;33mMaxPooling1D\u001b[0m)       │ (\u001b[38;5;45mNone\u001b[0m, \u001b[38;5;34m1\u001b[0m, \u001b[38;5;34m128\u001b[0m)              │               \u001b[38;5;34m0\u001b[0m │\n",
       "├──────────────────────────────────────┼─────────────────────────────┼─────────────────┤\n",
       "│ lstm_2 (\u001b[38;5;33mLSTM\u001b[0m)                        │ (\u001b[38;5;45mNone\u001b[0m, \u001b[38;5;34m64\u001b[0m)                  │          \u001b[38;5;34m49,408\u001b[0m │\n",
       "├──────────────────────────────────────┼─────────────────────────────┼─────────────────┤\n",
       "│ dense_6 (\u001b[38;5;33mDense\u001b[0m)                      │ (\u001b[38;5;45mNone\u001b[0m, \u001b[38;5;34m32\u001b[0m)                  │           \u001b[38;5;34m2,080\u001b[0m │\n",
       "├──────────────────────────────────────┼─────────────────────────────┼─────────────────┤\n",
       "│ dense_7 (\u001b[38;5;33mDense\u001b[0m)                      │ (\u001b[38;5;45mNone\u001b[0m, \u001b[38;5;34m16\u001b[0m)                  │             \u001b[38;5;34m528\u001b[0m │\n",
       "├──────────────────────────────────────┼─────────────────────────────┼─────────────────┤\n",
       "│ dense_8 (\u001b[38;5;33mDense\u001b[0m)                      │ (\u001b[38;5;45mNone\u001b[0m, \u001b[38;5;34m1\u001b[0m)                   │              \u001b[38;5;34m17\u001b[0m │\n",
       "└──────────────────────────────────────┴─────────────────────────────┴─────────────────┘\n"
      ]
     },
     "metadata": {},
     "output_type": "display_data"
    },
    {
     "data": {
      "text/html": [
       "<pre style=\"white-space:pre;overflow-x:auto;line-height:normal;font-family:Menlo,'DejaVu Sans Mono',consolas,'Courier New',monospace\"><span style=\"font-weight: bold\"> Total params: </span><span style=\"color: #00af00; text-decoration-color: #00af00\">55,361</span> (216.25 KB)\n",
       "</pre>\n"
      ],
      "text/plain": [
       "\u001b[1m Total params: \u001b[0m\u001b[38;5;34m55,361\u001b[0m (216.25 KB)\n"
      ]
     },
     "metadata": {},
     "output_type": "display_data"
    },
    {
     "data": {
      "text/html": [
       "<pre style=\"white-space:pre;overflow-x:auto;line-height:normal;font-family:Menlo,'DejaVu Sans Mono',consolas,'Courier New',monospace\"><span style=\"font-weight: bold\"> Trainable params: </span><span style=\"color: #00af00; text-decoration-color: #00af00\">55,361</span> (216.25 KB)\n",
       "</pre>\n"
      ],
      "text/plain": [
       "\u001b[1m Trainable params: \u001b[0m\u001b[38;5;34m55,361\u001b[0m (216.25 KB)\n"
      ]
     },
     "metadata": {},
     "output_type": "display_data"
    },
    {
     "data": {
      "text/html": [
       "<pre style=\"white-space:pre;overflow-x:auto;line-height:normal;font-family:Menlo,'DejaVu Sans Mono',consolas,'Courier New',monospace\"><span style=\"font-weight: bold\"> Non-trainable params: </span><span style=\"color: #00af00; text-decoration-color: #00af00\">0</span> (0.00 B)\n",
       "</pre>\n"
      ],
      "text/plain": [
       "\u001b[1m Non-trainable params: \u001b[0m\u001b[38;5;34m0\u001b[0m (0.00 B)\n"
      ]
     },
     "metadata": {},
     "output_type": "display_data"
    },
    {
     "name": "stdout",
     "output_type": "stream",
     "text": [
      "Epoch 1/35\n",
      "\u001b[1m28/28\u001b[0m \u001b[32m━━━━━━━━━━━━━━━━━━━━\u001b[0m\u001b[37m\u001b[0m \u001b[1m3s\u001b[0m 3ms/step - loss: 0.1255\n",
      "Epoch 2/35\n",
      "\u001b[1m28/28\u001b[0m \u001b[32m━━━━━━━━━━━━━━━━━━━━\u001b[0m\u001b[37m\u001b[0m \u001b[1m0s\u001b[0m 4ms/step - loss: 0.0041\n",
      "Epoch 3/35\n",
      "\u001b[1m28/28\u001b[0m \u001b[32m━━━━━━━━━━━━━━━━━━━━\u001b[0m\u001b[37m\u001b[0m \u001b[1m0s\u001b[0m 3ms/step - loss: 0.0016\n",
      "Epoch 4/35\n",
      "\u001b[1m28/28\u001b[0m \u001b[32m━━━━━━━━━━━━━━━━━━━━\u001b[0m\u001b[37m\u001b[0m \u001b[1m0s\u001b[0m 3ms/step - loss: 0.0012    \n",
      "Epoch 5/35\n",
      "\u001b[1m28/28\u001b[0m \u001b[32m━━━━━━━━━━━━━━━━━━━━\u001b[0m\u001b[37m\u001b[0m \u001b[1m0s\u001b[0m 3ms/step - loss: 9.8178e-04\n",
      "Epoch 6/35\n",
      "\u001b[1m28/28\u001b[0m \u001b[32m━━━━━━━━━━━━━━━━━━━━\u001b[0m\u001b[37m\u001b[0m \u001b[1m0s\u001b[0m 3ms/step - loss: 8.3208e-04\n",
      "Epoch 7/35\n",
      "\u001b[1m28/28\u001b[0m \u001b[32m━━━━━━━━━━━━━━━━━━━━\u001b[0m\u001b[37m\u001b[0m \u001b[1m0s\u001b[0m 3ms/step - loss: 6.2559e-04\n",
      "Epoch 8/35\n",
      "\u001b[1m28/28\u001b[0m \u001b[32m━━━━━━━━━━━━━━━━━━━━\u001b[0m\u001b[37m\u001b[0m \u001b[1m0s\u001b[0m 3ms/step - loss: 5.2447e-04\n",
      "Epoch 9/35\n",
      "\u001b[1m28/28\u001b[0m \u001b[32m━━━━━━━━━━━━━━━━━━━━\u001b[0m\u001b[37m\u001b[0m \u001b[1m0s\u001b[0m 3ms/step - loss: 6.0341e-04\n",
      "Epoch 10/35\n",
      "\u001b[1m28/28\u001b[0m \u001b[32m━━━━━━━━━━━━━━━━━━━━\u001b[0m\u001b[37m\u001b[0m \u001b[1m0s\u001b[0m 5ms/step - loss: 6.0256e-04\n",
      "Epoch 11/35\n",
      "\u001b[1m28/28\u001b[0m \u001b[32m━━━━━━━━━━━━━━━━━━━━\u001b[0m\u001b[37m\u001b[0m \u001b[1m0s\u001b[0m 3ms/step - loss: 4.2579e-04\n",
      "Epoch 12/35\n",
      "\u001b[1m28/28\u001b[0m \u001b[32m━━━━━━━━━━━━━━━━━━━━\u001b[0m\u001b[37m\u001b[0m \u001b[1m0s\u001b[0m 3ms/step - loss: 4.3511e-04\n",
      "Epoch 13/35\n",
      "\u001b[1m28/28\u001b[0m \u001b[32m━━━━━━━━━━━━━━━━━━━━\u001b[0m\u001b[37m\u001b[0m \u001b[1m0s\u001b[0m 4ms/step - loss: 5.2228e-04\n",
      "Epoch 14/35\n",
      "\u001b[1m28/28\u001b[0m \u001b[32m━━━━━━━━━━━━━━━━━━━━\u001b[0m\u001b[37m\u001b[0m \u001b[1m0s\u001b[0m 3ms/step - loss: 3.8908e-04\n",
      "Epoch 15/35\n",
      "\u001b[1m28/28\u001b[0m \u001b[32m━━━━━━━━━━━━━━━━━━━━\u001b[0m\u001b[37m\u001b[0m \u001b[1m0s\u001b[0m 3ms/step - loss: 4.7530e-04\n",
      "Epoch 16/35\n",
      "\u001b[1m28/28\u001b[0m \u001b[32m━━━━━━━━━━━━━━━━━━━━\u001b[0m\u001b[37m\u001b[0m \u001b[1m0s\u001b[0m 3ms/step - loss: 4.6766e-04\n",
      "Epoch 17/35\n",
      "\u001b[1m28/28\u001b[0m \u001b[32m━━━━━━━━━━━━━━━━━━━━\u001b[0m\u001b[37m\u001b[0m \u001b[1m0s\u001b[0m 4ms/step - loss: 3.3125e-04\n",
      "Epoch 18/35\n",
      "\u001b[1m28/28\u001b[0m \u001b[32m━━━━━━━━━━━━━━━━━━━━\u001b[0m\u001b[37m\u001b[0m \u001b[1m0s\u001b[0m 3ms/step - loss: 2.9147e-04\n",
      "Epoch 19/35\n",
      "\u001b[1m28/28\u001b[0m \u001b[32m━━━━━━━━━━━━━━━━━━━━\u001b[0m\u001b[37m\u001b[0m \u001b[1m0s\u001b[0m 3ms/step - loss: 4.3614e-04\n",
      "Epoch 20/35\n",
      "\u001b[1m28/28\u001b[0m \u001b[32m━━━━━━━━━━━━━━━━━━━━\u001b[0m\u001b[37m\u001b[0m \u001b[1m0s\u001b[0m 5ms/step - loss: 3.3165e-04\n",
      "Epoch 21/35\n",
      "\u001b[1m28/28\u001b[0m \u001b[32m━━━━━━━━━━━━━━━━━━━━\u001b[0m\u001b[37m\u001b[0m \u001b[1m0s\u001b[0m 3ms/step - loss: 4.1864e-04\n",
      "Epoch 22/35\n",
      "\u001b[1m28/28\u001b[0m \u001b[32m━━━━━━━━━━━━━━━━━━━━\u001b[0m\u001b[37m\u001b[0m \u001b[1m0s\u001b[0m 3ms/step - loss: 2.8139e-04\n",
      "Epoch 23/35\n",
      "\u001b[1m28/28\u001b[0m \u001b[32m━━━━━━━━━━━━━━━━━━━━\u001b[0m\u001b[37m\u001b[0m \u001b[1m0s\u001b[0m 4ms/step - loss: 2.7780e-04\n",
      "Epoch 24/35\n",
      "\u001b[1m28/28\u001b[0m \u001b[32m━━━━━━━━━━━━━━━━━━━━\u001b[0m\u001b[37m\u001b[0m \u001b[1m0s\u001b[0m 3ms/step - loss: 2.6531e-04\n",
      "Epoch 25/35\n",
      "\u001b[1m28/28\u001b[0m \u001b[32m━━━━━━━━━━━━━━━━━━━━\u001b[0m\u001b[37m\u001b[0m \u001b[1m0s\u001b[0m 3ms/step - loss: 3.4777e-04\n",
      "Epoch 26/35\n",
      "\u001b[1m28/28\u001b[0m \u001b[32m━━━━━━━━━━━━━━━━━━━━\u001b[0m\u001b[37m\u001b[0m \u001b[1m0s\u001b[0m 3ms/step - loss: 2.5679e-04\n",
      "Epoch 27/35\n",
      "\u001b[1m28/28\u001b[0m \u001b[32m━━━━━━━━━━━━━━━━━━━━\u001b[0m\u001b[37m\u001b[0m \u001b[1m0s\u001b[0m 3ms/step - loss: 2.5965e-04\n",
      "Epoch 28/35\n",
      "\u001b[1m28/28\u001b[0m \u001b[32m━━━━━━━━━━━━━━━━━━━━\u001b[0m\u001b[37m\u001b[0m \u001b[1m0s\u001b[0m 3ms/step - loss: 3.3080e-04\n",
      "Epoch 29/35\n",
      "\u001b[1m28/28\u001b[0m \u001b[32m━━━━━━━━━━━━━━━━━━━━\u001b[0m\u001b[37m\u001b[0m \u001b[1m0s\u001b[0m 3ms/step - loss: 2.8421e-04\n",
      "Epoch 30/35\n",
      "\u001b[1m28/28\u001b[0m \u001b[32m━━━━━━━━━━━━━━━━━━━━\u001b[0m\u001b[37m\u001b[0m \u001b[1m0s\u001b[0m 3ms/step - loss: 3.7070e-04\n",
      "Epoch 31/35\n",
      "\u001b[1m28/28\u001b[0m \u001b[32m━━━━━━━━━━━━━━━━━━━━\u001b[0m\u001b[37m\u001b[0m \u001b[1m0s\u001b[0m 3ms/step - loss: 2.7292e-04\n",
      "Epoch 32/35\n",
      "\u001b[1m28/28\u001b[0m \u001b[32m━━━━━━━━━━━━━━━━━━━━\u001b[0m\u001b[37m\u001b[0m \u001b[1m0s\u001b[0m 3ms/step - loss: 3.3473e-04\n",
      "Epoch 33/35\n",
      "\u001b[1m28/28\u001b[0m \u001b[32m━━━━━━━━━━━━━━━━━━━━\u001b[0m\u001b[37m\u001b[0m \u001b[1m0s\u001b[0m 4ms/step - loss: 3.1340e-04\n",
      "Epoch 34/35\n",
      "\u001b[1m28/28\u001b[0m \u001b[32m━━━━━━━━━━━━━━━━━━━━\u001b[0m\u001b[37m\u001b[0m \u001b[1m0s\u001b[0m 3ms/step - loss: 3.2175e-04\n",
      "Epoch 35/35\n",
      "\u001b[1m28/28\u001b[0m \u001b[32m━━━━━━━━━━━━━━━━━━━━\u001b[0m\u001b[37m\u001b[0m \u001b[1m0s\u001b[0m 3ms/step - loss: 2.9949e-04\n",
      "\u001b[1m14/14\u001b[0m \u001b[32m━━━━━━━━━━━━━━━━━━━━\u001b[0m\u001b[37m\u001b[0m \u001b[1m0s\u001b[0m 16ms/step\n",
      "\n",
      "R-Squared value on validation set: 0.9327431687636327\n"
     ]
    }
   ],
   "source": [
    "# Set the desired window size\n",
    "window_size = 25\n",
    "\n",
    "# Construct train, validation, and test datasets\n",
    "X_train, y_train = create_dataset(train, window_size)\n",
    "X_validation, y_validation = create_dataset(validation, window_size)\n",
    "X_test, y_test = create_dataset(test, window_size)\n",
    "\n",
    "# Reshape into NumPy arrays\n",
    "X_train = np.reshape(X_train, (X_train.shape[0], 1, X_train.shape[1]))\n",
    "X_validation = np.reshape(X_validation, (X_validation.shape[0], 1, X_validation.shape[1]))\n",
    "X_test = np.reshape(X_test, (X_test.shape[0], 1, X_test.shape[1]))\n",
    "\n",
    "# Build the model\n",
    "model = tf.keras.Sequential()\n",
    "model.add(tf.keras.layers.Conv1D(128, 1, activation=\"relu\", input_shape=(1, window_size)))\n",
    "model.add(tf.keras.layers.MaxPooling1D(1))\n",
    "model.add(tf.keras.layers.LSTM(64, activation='relu'))\n",
    "model.add(tf.keras.layers.Dense(32, activation='relu'))\n",
    "model.add(tf.keras.layers.Dense(16, activation='relu'))\n",
    "model.add(tf.keras.layers.Dense(1))\n",
    "model.compile(optimizer='adam', loss='mean_squared_error')\n",
    "model.summary()\n",
    "\n",
    "# Train the model\n",
    "model.fit(X_train, y_train, epochs=35)\n",
    "\n",
    "# Make predictions and evaluate\n",
    "y_pred = model.predict(X_validation)\n",
    "print(f\"\\nR-Squared value on validation set: {r2_score(y_validation, y_pred)}\")"
   ]
  },
  {
   "cell_type": "markdown",
   "id": "d3328ae7",
   "metadata": {},
   "source": [
    "Overall, this is starting to look really good! We are achieving an R-Squared value between `0.90` and `0.95` on the validation set, which is impressive. As a final performance check, we should now compute and visualize the performance on the testing set.\n",
    "\n",
    "## 8\\. Evaluate Model Performance\n",
    "\n",
    "Finally! We've settled on a model that we can be satisfied with, so let's use this model to make predictions on the testing set and compute our final R-Squared. While we're at it, since we'll need them for plotting, let's make predictions on all three sets: training, validation, and testing."
   ]
  },
  {
   "cell_type": "code",
   "execution_count": 30,
   "id": "19f3079e",
   "metadata": {},
   "outputs": [
    {
     "name": "stdout",
     "output_type": "stream",
     "text": [
      "\u001b[1m28/28\u001b[0m \u001b[32m━━━━━━━━━━━━━━━━━━━━\u001b[0m\u001b[37m\u001b[0m \u001b[1m0s\u001b[0m 2ms/step \n",
      "\u001b[1m14/14\u001b[0m \u001b[32m━━━━━━━━━━━━━━━━━━━━\u001b[0m\u001b[37m\u001b[0m \u001b[1m0s\u001b[0m 2ms/step \n",
      "\u001b[1m14/14\u001b[0m \u001b[32m━━━━━━━━━━━━━━━━━━━━\u001b[0m\u001b[37m\u001b[0m \u001b[1m0s\u001b[0m 2ms/step \n",
      "0.9948896946922064  --> Training Set\n",
      "0.9327431687636327  --> Validation Set\n",
      "0.9155247579291617  --> Test Set\n"
     ]
    }
   ],
   "source": [
    "# Make predictions on all three sets\n",
    "train_pred = model.predict(X_train)\n",
    "validation_pred = model.predict(X_validation)\n",
    "test_pred = model.predict(X_test)\n",
    "\n",
    "print(r2_score(y_train, train_pred), \" --> Training Set\")\n",
    "print(r2_score(y_validation, validation_pred), \" --> Validation Set\")\n",
    "print(r2_score(y_test, test_pred), \" --> Test Set\")"
   ]
  },
  {
   "cell_type": "markdown",
   "id": "93556d5f",
   "metadata": {},
   "source": [
    "Excellent! The R-Squared value from validation seems to have held up in testing, which is a great sign. Now it's time to visualize this performance. First, we'll need to undo the scaling and windowing preprocessing we've done."
   ]
  },
  {
   "cell_type": "code",
   "execution_count": 31,
   "id": "78d9b743",
   "metadata": {},
   "outputs": [],
   "source": [
    "# Un-scale the predictions\n",
    "train_pred = scaler.inverse_transform(train_pred)\n",
    "validation_pred = scaler.inverse_transform(validation_pred)\n",
    "test_pred = scaler.inverse_transform(test_pred)"
   ]
  },
  {
   "cell_type": "code",
   "execution_count": 32,
   "id": "82822f48",
   "metadata": {},
   "outputs": [],
   "source": [
    "plot_train_pred = np.empty((len(stock_data), 1))\n",
    "plot_train_pred[:] = np.nan"
   ]
  },
  {
   "cell_type": "code",
   "execution_count": 33,
   "id": "155c65ea",
   "metadata": {},
   "outputs": [
    {
     "data": {
      "text/plain": [
       "array([[nan],\n",
       "       [nan],\n",
       "       [nan],\n",
       "       ...,\n",
       "       [nan],\n",
       "       [nan],\n",
       "       [nan]])"
      ]
     },
     "execution_count": 33,
     "metadata": {},
     "output_type": "execute_result"
    }
   ],
   "source": [
    "plot_train_pred"
   ]
  },
  {
   "cell_type": "code",
   "execution_count": 34,
   "id": "9ffcf744",
   "metadata": {},
   "outputs": [],
   "source": [
    "# Un-scale the predictions\n",
    "train_pred = scaler.inverse_transform(train_pred)\n",
    "validation_pred = scaler.inverse_transform(validation_pred)\n",
    "test_pred = scaler.inverse_transform(test_pred)\n",
    "\n",
    "\n",
    "# Un-window the training predictions\n",
    "plot_train_pred = np.empty((len(stock_data), 1))\n",
    "plot_train_pred[:] = np.nan\n",
    "plot_train_pred[window_size:len(train_pred) + window_size, :] = train_pred\n",
    "\n",
    "# Un-window the validation predictions\n",
    "plot_validation_pred = np.empty((len(stock_data), 1))\n",
    "plot_validation_pred[:] = np.nan\n",
    "plot_validation_pred[len(train_pred) + (window_size * 2) + 1:len(train_pred) + len(validation_pred) + (window_size * 2) + 1, :] = validation_pred\n",
    "\n",
    "# Un-window the test predictions\n",
    "plot_test_pred = np.empty((len(stock_data), 1))\n",
    "plot_test_pred[:] = np.nan\n",
    "plot_test_pred[len(train_pred) + len(validation_pred) + (window_size * 3) + 2:len(stock_data) - 1, :] = test_pred"
   ]
  },
  {
   "cell_type": "markdown",
   "id": "ed93d850",
   "metadata": {},
   "source": [
    "Finally, let's plot the un-scaled and un-windowed data on top of the original `stock_data` dataset."
   ]
  },
  {
   "cell_type": "code",
   "execution_count": 35,
   "id": "bcd227df",
   "metadata": {},
   "outputs": [
    {
     "data": {
      "image/png": "[encoded data removed]",
      "text/plain": [
       "<Figure size 640x480 with 1 Axes>"
      ]
     },
     "metadata": {},
     "output_type": "display_data"
    }
   ],
   "source": [
    "# Plot the original data\n",
    "plt.plot(stock_data, label=\"Original Data\")\n",
    "\n",
    "# Plot the predictions\n",
    "plt.plot(plot_train_pred, label=\"Training Set Predictions\")\n",
    "plt.plot(plot_validation_pred, label=\"Validation Set Predictions\")\n",
    "plt.plot(plot_test_pred, label=\"Test Set Predictions\")\n",
    "\n",
    "# Add title, axis labels, and a legend\n",
    "plt.title('S&P 500 Index Forecast')\n",
    "plt.xlabel('Date')\n",
    "plt.xticks(rotation=45)\n",
    "plt.gca().xaxis.set_major_locator(mdates.YearLocator())\n",
    "plt.gcf().autofmt_xdate()\n",
    "plt.ylabel('Adjusted Close')\n",
    "plt.legend()\n",
    "plt.show()\n"
   ]
  },
  {
   "cell_type": "code",
   "execution_count": 36,
   "id": "9569072a",
   "metadata": {},
   "outputs": [
    {
     "data": {
      "text/html": [
       "<div>\n",
       "<style scoped>\n",
       "    .dataframe tbody tr th:only-of-type {\n",
       "        vertical-align: middle;\n",
       "    }\n",
       "\n",
       "    .dataframe tbody tr th {\n",
       "        vertical-align: top;\n",
       "    }\n",
       "\n",
       "    .dataframe thead th {\n",
       "        text-align: right;\n",
       "    }\n",
       "</style>\n",
       "<table border=\"1\" class=\"dataframe\">\n",
       "  <thead>\n",
       "    <tr style=\"text-align: right;\">\n",
       "      <th></th>\n",
       "      <th>Adj Close</th>\n",
       "    </tr>\n",
       "    <tr>\n",
       "      <th>Date</th>\n",
       "      <th></th>\n",
       "    </tr>\n",
       "  </thead>\n",
       "  <tbody>\n",
       "    <tr>\n",
       "      <th>2015-11-23</th>\n",
       "      <td>2086.590088</td>\n",
       "    </tr>\n",
       "    <tr>\n",
       "      <th>2015-11-24</th>\n",
       "      <td>2089.139893</td>\n",
       "    </tr>\n",
       "    <tr>\n",
       "      <th>2015-11-25</th>\n",
       "      <td>2088.870117</td>\n",
       "    </tr>\n",
       "    <tr>\n",
       "      <th>2015-11-26</th>\n",
       "      <td>2088.870117</td>\n",
       "    </tr>\n",
       "    <tr>\n",
       "      <th>2015-11-27</th>\n",
       "      <td>2090.110107</td>\n",
       "    </tr>\n",
       "    <tr>\n",
       "      <th>...</th>\n",
       "      <td>...</td>\n",
       "    </tr>\n",
       "    <tr>\n",
       "      <th>2020-11-16</th>\n",
       "      <td>3626.909912</td>\n",
       "    </tr>\n",
       "    <tr>\n",
       "      <th>2020-11-17</th>\n",
       "      <td>3609.530029</td>\n",
       "    </tr>\n",
       "    <tr>\n",
       "      <th>2020-11-18</th>\n",
       "      <td>3567.790039</td>\n",
       "    </tr>\n",
       "    <tr>\n",
       "      <th>2020-11-19</th>\n",
       "      <td>3581.870117</td>\n",
       "    </tr>\n",
       "    <tr>\n",
       "      <th>2020-11-20</th>\n",
       "      <td>3557.540039</td>\n",
       "    </tr>\n",
       "  </tbody>\n",
       "</table>\n",
       "<p>1825 rows × 1 columns</p>\n",
       "</div>"
      ],
      "text/plain": [
       "              Adj Close\n",
       "Date                   \n",
       "2015-11-23  2086.590088\n",
       "2015-11-24  2089.139893\n",
       "2015-11-25  2088.870117\n",
       "2015-11-26  2088.870117\n",
       "2015-11-27  2090.110107\n",
       "...                 ...\n",
       "2020-11-16  3626.909912\n",
       "2020-11-17  3609.530029\n",
       "2020-11-18  3567.790039\n",
       "2020-11-19  3581.870117\n",
       "2020-11-20  3557.540039\n",
       "\n",
       "[1825 rows x 1 columns]"
      ]
     },
     "execution_count": 36,
     "metadata": {},
     "output_type": "execute_result"
    }
   ],
   "source": [
    "stock_data"
   ]
  },
  {
   "cell_type": "code",
   "execution_count": 37,
   "id": "ed9bf875",
   "metadata": {},
   "outputs": [
    {
     "data": {
      "text/plain": [
       "array([[2147084.2],\n",
       "       [2126067.5],\n",
       "       [2111771. ],\n",
       "       [2103606. ],\n",
       "       [2125833.8],\n",
       "       [2135720.2],\n",
       "       [2155535.8],\n",
       "       [2159525.5],\n",
       "       [2157251.5],\n",
       "       [2159570.2],\n",
       "       [2154366.2],\n",
       "       [2152442.2],\n",
       "       [2169874.5],\n",
       "       [2169855.5],\n",
       "       [2159601. ],\n",
       "       [2155388. ],\n",
       "       [2141010. ],\n",
       "       [2133715.8],\n",
       "       [2118113.8],\n",
       "       [2118781.8],\n",
       "       [2095683.5],\n",
       "       [2052802.1],\n",
       "       [2025081.1],\n",
       "       [2002788.4],\n",
       "       [1994065.1],\n",
       "       [1999254.1],\n",
       "       [2017018. ],\n",
       "       [1989118. ],\n",
       "       [1994406.2],\n",
       "       [1977489.9],\n",
       "       [1971145.8],\n",
       "       [1973902.2],\n",
       "       [1977814.9],\n",
       "       [1986626.5],\n",
       "       [1975837.5],\n",
       "       [1975338.6],\n",
       "       [1984797.4],\n",
       "       [1990095.2],\n",
       "       [1993150. ],\n",
       "       [1989216. ],\n",
       "       [1993012.9],\n",
       "       [1985977. ],\n",
       "       [1990555.2],\n",
       "       [2010180.1],\n",
       "       [2015883.8],\n",
       "       [2030782.5],\n",
       "       [2029031.5],\n",
       "       [2002170.8],\n",
       "       [2006729.8],\n",
       "       [1996406.4],\n",
       "       [1982525.8],\n",
       "       [1974566.1],\n",
       "       [1966555.8],\n",
       "       [1955862.1],\n",
       "       [1944185.6],\n",
       "       [1940152.6],\n",
       "       [1932078.4],\n",
       "       [1940127. ],\n",
       "       [1948003.5],\n",
       "       [1956153.1],\n",
       "       [1965497.8],\n",
       "       [1971218.2],\n",
       "       [1993389. ],\n",
       "       [2004129.4],\n",
       "       [2004909.9],\n",
       "       [2008156.2],\n",
       "       [2012676.5],\n",
       "       [2021881.8],\n",
       "       [2023019.8],\n",
       "       [2025999. ],\n",
       "       [2025467.8],\n",
       "       [2038222.4],\n",
       "       [2039347.1],\n",
       "       [2038109.6],\n",
       "       [2040052.8],\n",
       "       [2059653.6],\n",
       "       [2072906.9],\n",
       "       [2091692.1],\n",
       "       [2099641.2],\n",
       "       [2101724.5],\n",
       "       [2097813.5],\n",
       "       [2097490.5],\n",
       "       [2091108.2],\n",
       "       [2091174. ],\n",
       "       [2096252.1],\n",
       "       [2110995. ],\n",
       "       [2118079.5],\n",
       "       [2124338.8],\n",
       "       [2116793.5],\n",
       "       [2113498.5],\n",
       "       [2120417.5],\n",
       "       [2131169.5],\n",
       "       [2149793.8],\n",
       "       [2152450. ],\n",
       "       [2151857.8],\n",
       "       [2153319.5],\n",
       "       [2149251.2],\n",
       "       [2143171.8],\n",
       "       [2141035.2],\n",
       "       [2136484.8],\n",
       "       [2139836.2],\n",
       "       [2141577.5],\n",
       "       [2139693.2],\n",
       "       [2144249.2],\n",
       "       [2150385.8],\n",
       "       [2156218.2],\n",
       "       [2166307.8],\n",
       "       [2171752.2],\n",
       "       [2175178. ],\n",
       "       [2170747. ],\n",
       "       [2157663.5],\n",
       "       [2162422. ],\n",
       "       [2150667.2],\n",
       "       [2152270. ],\n",
       "       [2147978.2],\n",
       "       [2145158.2],\n",
       "       [2141758.2],\n",
       "       [2149931.5],\n",
       "       [2166460.5],\n",
       "       [2174371. ],\n",
       "       [2181761.5],\n",
       "       [2180805.5],\n",
       "       [2180340.2],\n",
       "       [2188346.5],\n",
       "       [2197158.8],\n",
       "       [2203018. ],\n",
       "       [2197989.2],\n",
       "       [2195686.2],\n",
       "       [2194908.8],\n",
       "       [2191313.2],\n",
       "       [2190076.2],\n",
       "       [2192626. ],\n",
       "       [2191414.2],\n",
       "       [2185582.8],\n",
       "       [2175943.5],\n",
       "       [2164574.8],\n",
       "       [2158586. ],\n",
       "       [2169614.2],\n",
       "       [2168217.5],\n",
       "       [2161259.5],\n",
       "       [2156407. ],\n",
       "       [2153542. ],\n",
       "       [2153917. ],\n",
       "       [2156839.8],\n",
       "       [2160035.8],\n",
       "       [2174436.5],\n",
       "       [2171323. ],\n",
       "       [2169151.2],\n",
       "       [2158529.8],\n",
       "       [2149094. ],\n",
       "       [2148894.5],\n",
       "       [2159971. ],\n",
       "       [2156965.2],\n",
       "       [2153770.5],\n",
       "       [2147070.2],\n",
       "       [2141986.8],\n",
       "       [2144757.2],\n",
       "       [2148004.5],\n",
       "       [2149837.8],\n",
       "       [2162243.8],\n",
       "       [2176255.5],\n",
       "       [2185032.5],\n",
       "       [2194270.5],\n",
       "       [2192796.5],\n",
       "       [2197365.2],\n",
       "       [2200564.2],\n",
       "       [2201378.5],\n",
       "       [2205369.8],\n",
       "       [2205319. ],\n",
       "       [2201387. ],\n",
       "       [2201481. ],\n",
       "       [2200574.8],\n",
       "       [2205121.5],\n",
       "       [2209893.2],\n",
       "       [2216181.5],\n",
       "       [2217136.5],\n",
       "       [2208743. ],\n",
       "       [2201683.8],\n",
       "       [2195655.2],\n",
       "       [2185948.8],\n",
       "       [2180635.2],\n",
       "       [2177077. ],\n",
       "       [2178471. ],\n",
       "       [2174175. ],\n",
       "       [2171789.8],\n",
       "       [2169857.8],\n",
       "       [2173120. ],\n",
       "       [2182095.2],\n",
       "       [2187228.5],\n",
       "       [2203450.2],\n",
       "       [2170090.2],\n",
       "       [2158097.5],\n",
       "       [2147095.8],\n",
       "       [2120885.2],\n",
       "       [2141531. ],\n",
       "       [2154948.5],\n",
       "       [2177665.8],\n",
       "       [2191690.2],\n",
       "       [2196474.5],\n",
       "       [2192859.5],\n",
       "       [2196385.5],\n",
       "       [2193429.2],\n",
       "       [2204702.8],\n",
       "       [2207219. ],\n",
       "       [2221737.2],\n",
       "       [2232408. ],\n",
       "       [2228882. ],\n",
       "       [2226739.8],\n",
       "       [2239847. ],\n",
       "       [2249682.8],\n",
       "       [2257587. ],\n",
       "       [2272185.2],\n",
       "       [2268691.8],\n",
       "       [2267218. ],\n",
       "       [2272169.5],\n",
       "       [2267676.5],\n",
       "       [2271955.5],\n",
       "       [2273507.2],\n",
       "       [2279030.2],\n",
       "       [2280759.8],\n",
       "       [2279941.8],\n",
       "       [2277342.8],\n",
       "       [2273151.2],\n",
       "       [2269966.5],\n",
       "       [2273279. ],\n",
       "       [2277316.5],\n",
       "       [2277957.5],\n",
       "       [2279453. ],\n",
       "       [2275521.5],\n",
       "       [2268082. ],\n",
       "       [2268870.8],\n",
       "       [2267699.2],\n",
       "       [2279509.2],\n",
       "       [2285157.8],\n",
       "       [2288406. ],\n",
       "       [2288437.2],\n",
       "       [2286991.5],\n",
       "       [2282991.5],\n",
       "       [2287981.8],\n",
       "       [2289534. ],\n",
       "       [2291459.8],\n",
       "       [2294391.8],\n",
       "       [2294516.5],\n",
       "       [2288062.5],\n",
       "       [2286768.8],\n",
       "       [2287606. ],\n",
       "       [2288096.2],\n",
       "       [2292117. ],\n",
       "       [2291605.5],\n",
       "       [2290284.8],\n",
       "       [2290036.5],\n",
       "       [2284282. ],\n",
       "       [2282008. ],\n",
       "       [2278332.2],\n",
       "       [2276914. ],\n",
       "       [2277799.5],\n",
       "       [2281688. ],\n",
       "       [2280647.5],\n",
       "       [2280093.2],\n",
       "       [2277861.8],\n",
       "       [2280593.2],\n",
       "       [2284526. ],\n",
       "       [2286262. ],\n",
       "       [2287418.5],\n",
       "       [2291113.5],\n",
       "       [2292196.8],\n",
       "       [2291121.5],\n",
       "       [2262690.2],\n",
       "       [2244575. ],\n",
       "       [2235310.2],\n",
       "       [2249758.8],\n",
       "       [2243546.8],\n",
       "       [2239379.8],\n",
       "       [2243700.5],\n",
       "       [2235186.8],\n",
       "       [2240634.8],\n",
       "       [2241656.5],\n",
       "       [2242547.2],\n",
       "       [2243912.8],\n",
       "       [2263867.8],\n",
       "       [2275559.5],\n",
       "       [2274832.8],\n",
       "       [2273761.8],\n",
       "       [2267787.5],\n",
       "       [2259602.8],\n",
       "       [2264313.2],\n",
       "       [2272596.2],\n",
       "       [2261961.5],\n",
       "       [2267449. ],\n",
       "       [2266245. ],\n",
       "       [2270395.8],\n",
       "       [2264424. ],\n",
       "       [2257717.8],\n",
       "       [2258203. ],\n",
       "       [2259710.8],\n",
       "       [2264613.5],\n",
       "       [2264266.5],\n",
       "       [2258707.2],\n",
       "       [2259747.2],\n",
       "       [2251858.5],\n",
       "       [2248110.5],\n",
       "       [2239940.2],\n",
       "       [2240192.8],\n",
       "       [2238561.2],\n",
       "       [2237217.5],\n",
       "       [2235742.2],\n",
       "       [2236846.8],\n",
       "       [2242928.2],\n",
       "       [2244920.8],\n",
       "       [2245535.2],\n",
       "       [2245154. ],\n",
       "       [2247264. ],\n",
       "       [2251886.8],\n",
       "       [2250815.2],\n",
       "       [2248610.2],\n",
       "       [2242218.8],\n",
       "       [2234960.5],\n",
       "       [2232898.5],\n",
       "       [2230445.5],\n",
       "       [2228440.2],\n",
       "       [2222026.2],\n",
       "       [2209450. ],\n",
       "       [2197649. ],\n",
       "       [2190463.8],\n",
       "       [2186765.2],\n",
       "       [2187477. ],\n",
       "       [2212696.5],\n",
       "       [2226210.2],\n",
       "       [2251933.2],\n",
       "       [2262965.2],\n",
       "       [2263380.8],\n",
       "       [2266548.2],\n",
       "       [2269048. ],\n",
       "       [2273483.5],\n",
       "       [2283366.5],\n",
       "       [2285641.5],\n",
       "       [2289255. ],\n",
       "       [2286450.5],\n",
       "       [2284332.2],\n",
       "       [2284438.5],\n",
       "       [2292331.2],\n",
       "       [2301179. ],\n",
       "       [2308818.8],\n",
       "       [2313072.5],\n",
       "       [2314327.8],\n",
       "       [2317079.8],\n",
       "       [2318061.2],\n",
       "       [2311507.5],\n",
       "       [2313180.5],\n",
       "       [2310476.2],\n",
       "       [2305392.5],\n",
       "       [2303317.2],\n",
       "       [2296390.5],\n",
       "       [2295291.8],\n",
       "       [2302643. ],\n",
       "       [2310959.2],\n",
       "       [2331472. ],\n",
       "       [2343542.5],\n",
       "       [2356953. ],\n",
       "       [2363315.8],\n",
       "       [2367110.2],\n",
       "       [2369348. ],\n",
       "       [2377631. ],\n",
       "       [2373190.5],\n",
       "       [2375288.2],\n",
       "       [2372643.8],\n",
       "       [2369076.2],\n",
       "       [2367840. ],\n",
       "       [2368399.2],\n",
       "       [2371647.8],\n",
       "       [2370036.2],\n",
       "       [2371373.8],\n",
       "       [2370319.5],\n",
       "       [2370818.5],\n",
       "       [2370162. ],\n",
       "       [2373508.2],\n",
       "       [2378324.8],\n",
       "       [2369941.8],\n",
       "       [2368755.2],\n",
       "       [2358929. ],\n",
       "       [2352202. ],\n",
       "       [2351726.2],\n",
       "       [2350697.8],\n",
       "       [2360927. ],\n",
       "       [2371970.5],\n",
       "       [2376853. ],\n",
       "       [2383553. ],\n",
       "       [2385356.5],\n",
       "       [2387018.8],\n",
       "       [2388217.2],\n",
       "       [2387809. ],\n",
       "       [2390470.8],\n",
       "       [2388451. ],\n",
       "       [2389005.5],\n",
       "       [2387456.5],\n",
       "       [2385529. ],\n",
       "       [2383694. ],\n",
       "       [2380540.2],\n",
       "       [2381250.8],\n",
       "       [2375641.5],\n",
       "       [2380458.2],\n",
       "       [2381619. ],\n",
       "       [2382621.2],\n",
       "       [2380938.8],\n",
       "       [2386800.8],\n",
       "       [2399650.2],\n",
       "       [2405924.5],\n",
       "       [2410537.2],\n",
       "       [2409429.8],\n",
       "       [2408947.5],\n",
       "       [2402209.5],\n",
       "       [2399547. ],\n",
       "       [2395658. ],\n",
       "       [2395317.5],\n",
       "       [2404469.2],\n",
       "       [2408107.2],\n",
       "       [2409406.5],\n",
       "       [2404616.2],\n",
       "       [2402384.2],\n",
       "       [2403828. ],\n",
       "       [2414624.8],\n",
       "       [2425022.5],\n",
       "       [2430618.8],\n",
       "       [2432870.2],\n",
       "       [2438293.2],\n",
       "       [2444945. ],\n",
       "       [2452362.8],\n",
       "       [2458410.2],\n",
       "       [2462629.2],\n",
       "       [2464342.2],\n",
       "       [2466038.8],\n",
       "       [2467173.2],\n",
       "       [2470256.2],\n",
       "       [2472476.8],\n",
       "       [2476624.8],\n",
       "       [2479882.5],\n",
       "       [2480283.8],\n",
       "       [2480022.2],\n",
       "       [2479917.8],\n",
       "       [2478876.2],\n",
       "       [2493417. ],\n",
       "       [2495927. ],\n",
       "       [2498439.5],\n",
       "       [2499895.2],\n",
       "       [2496356.2],\n",
       "       [2494921. ],\n",
       "       [2492393.2],\n",
       "       [2488840.2],\n",
       "       [2485630.8],\n",
       "       [2490123.2],\n",
       "       [2489420.5],\n",
       "       [2491453.5],\n",
       "       [2488206. ],\n",
       "       [2483995.5],\n",
       "       [2495255. ],\n",
       "       [2497004.5],\n",
       "       [2499370.2],\n",
       "       [2501335.2],\n",
       "       [2498965. ],\n",
       "       [2498168.2],\n",
       "       [2483769.8],\n",
       "       [2476346. ],\n",
       "       [2470119. ],\n",
       "       [2466833.5],\n",
       "       [2466216.5],\n",
       "       [2465734.5],\n",
       "       [2460679.5],\n",
       "       [2465854.2],\n",
       "       [2472379. ],\n",
       "       [2479009.8],\n",
       "       [2482551.5],\n",
       "       [2484674.5],\n",
       "       [2486125.8],\n",
       "       [2483630.8],\n",
       "       [2484891. ],\n",
       "       [2479016.5],\n",
       "       [2480038.2],\n",
       "       [2477019.5],\n",
       "       [2477502.8],\n",
       "       [2474093. ],\n",
       "       [2472971.8],\n",
       "       [2471872.5],\n",
       "       [2465549. ],\n",
       "       [2456730. ],\n",
       "       [2451420.8],\n",
       "       [2447821.2],\n",
       "       [2447567.8],\n",
       "       [2460083.8],\n",
       "       [2459804.8],\n",
       "       [2461107.8],\n",
       "       [2467231.8],\n",
       "       [2465554.5],\n",
       "       [2467400.2],\n",
       "       [2469126.8],\n",
       "       [2481229. ],\n",
       "       [2493037. ],\n",
       "       [2501025.2],\n",
       "       [2504075. ],\n",
       "       [2502197.8],\n",
       "       [2499863.2],\n",
       "       [2500930.5],\n",
       "       [2505375. ],\n",
       "       [2505006.2],\n",
       "       [2507143.2],\n",
       "       [2507368. ],\n",
       "       [2508340.5],\n",
       "       [2509384.8],\n",
       "       [2509864. ],\n",
       "       [2510592.8],\n",
       "       [2512911.8],\n",
       "       [2515489. ],\n",
       "       [2514570.5],\n",
       "       [2512033.2],\n",
       "       [2510381. ],\n",
       "       [2510321. ],\n",
       "       [2516202.2],\n",
       "       [2519961.5],\n",
       "       [2499531. ],\n",
       "       [2491749.2],\n",
       "       [2493089.8],\n",
       "       [2495469.8],\n",
       "       [2503318.8],\n",
       "       [2509285. ],\n",
       "       [2512009.5],\n",
       "       [2517812. ],\n",
       "       [2525887.8],\n",
       "       [2528089.5],\n",
       "       [2531888. ],\n",
       "       [2533569.2],\n",
       "       [2538950.5],\n",
       "       [2536941.2],\n",
       "       [2534454.2],\n",
       "       [2541102.2],\n",
       "       [2544863.5],\n",
       "       [2549408. ],\n",
       "       [2555899.5],\n",
       "       [2552721.2],\n",
       "       [2546960. ],\n",
       "       [2548602.5],\n",
       "       [2548262. ],\n",
       "       [2549045. ],\n",
       "       [2552914.8],\n",
       "       [2552484.2],\n",
       "       [2549848.5],\n",
       "       [2552757.2],\n",
       "       [2552965. ],\n",
       "       [2551923.8],\n",
       "       [2553749. ],\n",
       "       [2554090.8],\n",
       "       [2554918.8],\n",
       "       [2562486.8],\n",
       "       [2559914.8],\n",
       "       [2559951. ],\n",
       "       [2558452.2],\n",
       "       [2559163.8],\n",
       "       [2560770.5],\n",
       "       [2559295. ],\n",
       "       [2560010. ],\n",
       "       [2551880.8],\n",
       "       [2557452.5],\n",
       "       [2548594. ],\n",
       "       [2548378.5],\n",
       "       [2544536.2],\n",
       "       [2544697.5],\n",
       "       [2549530.8],\n",
       "       [2549690.8],\n",
       "       [2553552. ],\n",
       "       [2541731.5],\n",
       "       [2544638.8],\n",
       "       [2544114.8],\n",
       "       [2549134.5],\n",
       "       [2548583. ],\n",
       "       [2550912. ],\n",
       "       [2555840.2],\n",
       "       [2559269.2],\n",
       "       [2570030.2],\n",
       "       [2573181.5],\n",
       "       [2575080.8],\n",
       "       [2576889. ],\n",
       "       [2580726. ],\n",
       "       [2584080.2],\n",
       "       [2589171.8],\n",
       "       [2590762. ],\n",
       "       [2590323.2],\n",
       "       [2591789.5],\n",
       "       [2589858. ],\n",
       "       [2590924. ],\n",
       "       [2592159.8],\n",
       "       [2592922.8],\n",
       "       [2591674. ],\n",
       "       [2592001. ],\n",
       "       [2589825.5],\n",
       "       [2588305. ],\n",
       "       [2591510.8],\n",
       "       [2594651.8],\n",
       "       [2595555.5],\n",
       "       [2597796.2],\n",
       "       [2598496. ],\n",
       "       [2596820.8],\n",
       "       [2599680. ],\n",
       "       [2599102. ],\n",
       "       [2598403.8],\n",
       "       [2583621. ],\n",
       "       [2575332.8],\n",
       "       [2567957.8],\n",
       "       [2564942.8],\n",
       "       [2578319.8],\n",
       "       [2581978. ],\n",
       "       [2586178.5],\n",
       "       [2569888.8],\n",
       "       [2557856.5],\n",
       "       [2548747.8],\n",
       "       [2548551.5],\n",
       "       [2555384.8],\n",
       "       [2568768. ],\n",
       "       [2569756.8],\n",
       "       [2566534.5],\n",
       "       [2566103.5],\n",
       "       [2559408.2],\n",
       "       [2562299.5],\n",
       "       [2566396.5],\n",
       "       [2571443.5],\n",
       "       [2575826.5],\n",
       "       [2584806.2],\n",
       "       [2586317.2],\n",
       "       [2590504. ],\n",
       "       [2591176.5],\n",
       "       [2595243. ],\n",
       "       [2590021.2],\n",
       "       [2588156.5],\n",
       "       [2587646.2],\n",
       "       [2583021.2],\n",
       "       [2582357.8],\n",
       "       [2583569. ],\n",
       "       [2592649.8],\n",
       "       [2599251.8],\n",
       "       [2608420. ],\n",
       "       [2610544.8],\n",
       "       [2613889. ],\n",
       "       [2616585.2],\n",
       "       [2620338.5],\n",
       "       [2622265.8],\n",
       "       [2625038.2],\n",
       "       [2629125.8],\n",
       "       [2626143.5],\n",
       "       [2626682.2],\n",
       "       [2623170. ],\n",
       "       [2619803. ],\n",
       "       [2618085.5],\n",
       "       [2618476. ],\n",
       "       [2621391.5],\n",
       "       [2625312.8],\n",
       "       [2630676.2],\n",
       "       [2634476.8],\n",
       "       [2637527.2],\n",
       "       [2643351.8],\n",
       "       [2651008. ],\n",
       "       [2655451.5],\n",
       "       [2664235.2],\n",
       "       [2667152.5],\n",
       "       [2670094.2],\n",
       "       [2671407. ],\n",
       "       [2668628. ],\n",
       "       [2670225. ],\n",
       "       [2672333. ],\n",
       "       [2672853.2],\n",
       "       [2674269.5],\n",
       "       [2673962.2],\n",
       "       [2671158.2],\n",
       "       [2673494.2],\n",
       "       [2673923.5],\n",
       "       [2677609.5],\n",
       "       [2681895.8],\n",
       "       [2688882.2],\n",
       "       [2693723.8],\n",
       "       [2696032.8],\n",
       "       [2692194.2],\n",
       "       [2694396.5],\n",
       "       [2688845. ],\n",
       "       [2688325.2],\n",
       "       [2697616.8],\n",
       "       [2699019.8],\n",
       "       [2703168.2],\n",
       "       [2701088.5],\n",
       "       [2699621.5],\n",
       "       [2698761. ],\n",
       "       [2702045. ],\n",
       "       [2706787. ],\n",
       "       [2711349.8],\n",
       "       [2713571. ],\n",
       "       [2715460.2],\n",
       "       [2715257.5],\n",
       "       [2714835.5],\n",
       "       [2713668.2],\n",
       "       [2712219.5],\n",
       "       [2711772.5],\n",
       "       [2711636. ],\n",
       "       [2710856.8],\n",
       "       [2706452.2],\n",
       "       [2698922.8],\n",
       "       [2703876.5],\n",
       "       [2703980.5],\n",
       "       [2704887.2],\n",
       "       [2706670. ],\n",
       "       [2706284.2],\n",
       "       [2714402.5],\n",
       "       [2719267. ],\n",
       "       [2723031.8],\n",
       "       [2725120.5],\n",
       "       [2727464.8],\n",
       "       [2728147.5],\n",
       "       [2731421.8],\n",
       "       [2739727.2],\n",
       "       [2744420.2],\n",
       "       [2758642.5],\n",
       "       [2759525.2],\n",
       "       [2764156. ],\n",
       "       [2763761.2],\n",
       "       [2762033.5],\n",
       "       [2760432. ],\n",
       "       [2758341.8],\n",
       "       [2760504.2],\n",
       "       [2767356. ],\n",
       "       [2770683.5],\n",
       "       [2770193. ],\n",
       "       [2774238.2],\n",
       "       [2775533. ],\n",
       "       [2780925. ],\n",
       "       [2780277. ],\n",
       "       [2791026.2],\n",
       "       [2795056.8],\n",
       "       [2801390. ],\n",
       "       [2808313.8],\n",
       "       [2807224. ],\n",
       "       [2808162. ],\n",
       "       [2809041. ],\n",
       "       [2811286.2],\n",
       "       [2810494.2],\n",
       "       [2812727.5],\n",
       "       [2811049.5],\n",
       "       [2810086.5],\n",
       "       [2808447.2],\n",
       "       [2809403.2],\n",
       "       [2805015.8],\n",
       "       [2803760. ],\n",
       "       [2804194.8],\n",
       "       [2804106.8],\n",
       "       [2812709. ],\n",
       "       [2826737. ],\n",
       "       [2838257. ],\n",
       "       [2851684. ],\n",
       "       [2863756.8],\n",
       "       [2867884.2],\n",
       "       [2872519.8],\n",
       "       [2878342.2],\n",
       "       [2880781.5],\n",
       "       [2891359.5],\n",
       "       [2903161.2],\n",
       "       [2909459. ],\n",
       "       [2911138.2],\n",
       "       [2909855.2],\n",
       "       [2905442.5],\n",
       "       [2913383.8],\n",
       "       [2917975. ],\n",
       "       [2929191.2],\n",
       "       [2932800. ],\n",
       "       [2935175.2],\n",
       "       [2947139.2],\n",
       "       [2953402.2],\n",
       "       [2960599.8],\n",
       "       [2967530.5],\n",
       "       [2988203. ],\n",
       "       [2995524.2],\n",
       "       [3007921.2],\n",
       "       [2997317.8],\n",
       "       [2978005.2],\n",
       "       [2969970. ],\n",
       "       [2962503.2],\n",
       "       [2932628.2],\n",
       "       [2916983.5],\n",
       "       [2902242.8],\n",
       "       [2834875.8],\n",
       "       [2830492.2],\n",
       "       [2807225. ],\n",
       "       [2748974.2],\n",
       "       [2756437.8],\n",
       "       [2752967.5],\n",
       "       [2755055.2],\n",
       "       [2785126. ],\n",
       "       [2798493.2],\n",
       "       [2820151.5],\n",
       "       [2841451. ],\n",
       "       [2857127.8],\n",
       "       [2880761.8],\n",
       "       [2872358.5],\n",
       "       [2871875.8],\n",
       "       [2880065.2],\n",
       "       [2858393.2],\n",
       "       [2852188.8],\n",
       "       [2875982. ],\n",
       "       [2858709. ],\n",
       "       [2866857.2],\n",
       "       [2888683.5],\n",
       "       [2858512.5],\n",
       "       [2846119.5],\n",
       "       [2826711.2],\n",
       "       [2809867. ],\n",
       "       [2814318.2],\n",
       "       [2820660. ],\n",
       "       [2837024.2],\n",
       "       [2847684.5],\n",
       "       [2845497. ],\n",
       "       [2851967.8],\n",
       "       [2882017. ],\n",
       "       [2892480.2],\n",
       "       [2915589. ],\n",
       "       [2921338.5],\n",
       "       [2914789.8],\n",
       "       [2905500.5],\n",
       "       [2895900.2],\n",
       "       [2889973.2],\n",
       "       [2891748.5],\n",
       "       [2892473.2],\n",
       "       [2869795.5],\n",
       "       [2856252.5],\n",
       "       [2836478. ],\n",
       "       [2795725.8],\n",
       "       [2749965.5],\n",
       "       [2729343.2],\n",
       "       [2719597.8],\n",
       "       [2759419.8],\n",
       "       [2757180.8],\n",
       "       [2752475. ],\n",
       "       [2766090.2],\n",
       "       [2764662.2],\n",
       "       [2778868.5],\n",
       "       [2778778.2],\n",
       "       [2755435. ],\n",
       "       [2762292.5],\n",
       "       [2777917.2],\n",
       "       [2785511.8],\n",
       "       [2776718.8],\n",
       "       [2755048.2],\n",
       "       [2744826. ],\n",
       "       [2744040.2],\n",
       "       [2761474.8],\n",
       "       [2762475.8],\n",
       "       [2777104.8],\n",
       "       [2768893.5],\n",
       "       [2784181.2],\n",
       "       [2779687.5],\n",
       "       [2786376.8],\n",
       "       [2811194.5],\n",
       "       [2822280.2],\n",
       "       [2826154.2],\n",
       "       [2820881. ],\n",
       "       [2808447.5],\n",
       "       [2791434.8],\n",
       "       [2796218.5],\n",
       "       [2780266.5],\n",
       "       [2776235.2],\n",
       "       [2784714.5],\n",
       "       [2785505.2],\n",
       "       [2779871.2],\n",
       "       [2783017. ],\n",
       "       [2773746. ],\n",
       "       [2779064. ],\n",
       "       [2779562.5],\n",
       "       [2770903.8],\n",
       "       [2785841.2],\n",
       "       [2787788.5],\n",
       "       [2796067.8],\n",
       "       [2801695. ],\n",
       "       [2800300.5],\n",
       "       [2811232.2],\n",
       "       [2827818.5],\n",
       "       [2839165. ],\n",
       "       [2853328.2],\n",
       "       [2856457.8],\n",
       "       [2856807.8],\n",
       "       [2852757. ],\n",
       "       [2848647.2],\n",
       "       [2848786.5],\n",
       "       [2850677. ],\n",
       "       [2845798.5],\n",
       "       [2844632.2]], dtype=float32)"
      ]
     },
     "execution_count": 37,
     "metadata": {},
     "output_type": "execute_result"
    }
   ],
   "source": [
    "train_pred"
   ]
  },
  {
   "cell_type": "code",
   "execution_count": null,
   "id": "f45f0d2f",
   "metadata": {},
   "outputs": [],
   "source": []
  }
 ],
 "metadata": {
  "kernelspec": {
   "display_name": "Python 3 (ipykernel)",
   "language": "python",
   "name": "python3"
  },
  "language_info": {
   "codemirror_mode": {
    "name": "ipython",
    "version": 3
   },
   "file_extension": ".py",
   "mimetype": "text/x-python",
   "name": "python",
   "nbconvert_exporter": "python",
   "pygments_lexer": "ipython3",
   "version": "3.11.5"
  }
 },
 "nbformat": 4,
 "nbformat_minor": 5
}
