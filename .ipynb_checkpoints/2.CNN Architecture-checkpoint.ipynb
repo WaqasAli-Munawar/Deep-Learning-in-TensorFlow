{
 "cells": [
  {
   "cell_type": "markdown",
   "id": "292e97fa",
   "metadata": {},
   "source": [
    "In the last file, we built a very basic CNN classifier, and it didn't perform too well on our test dataset. While this is not surprising given the model's simplicity, it's not desirable, because our model was performing just as well as randomly guessing.\n",
    "\n",
    "In this file, we'll implement a slightly more complex architecture. We'll learn about [AlexNet](https://en.wikipedia.org/wiki/AlexNet), a CNN architecture that competed in 2012's [ImageNet Challenge](https://en.wikipedia.org/wiki/ImageNet_Large_Scale_Visual_Recognition_Challenge) and outperformed other networks by a significant margin. A decade-old model might not seem relevant to us now, but the architecture’s performance on a dataset with more than a million images across 1,000 classes has since influenced the design of a lot of deep learning models in computer vision.\n",
    "\n",
    "## Our Dataset\n",
    "\n",
    "We'll continue working with the [beans dataset](https://github.com/AI-Lab-Makerere/ibean/) to develop a more reliable classifier that will enable the [National Crops Resources Research Institute](https://naro.go.ug/about-us/paris/nacrri/) to better equip farmers to identify, and subsequently address, diseased food crops.\n",
    "\n",
    "As a reminder, the `beans` dataset has the following directory structure once it's been uncompressed:"
   ]
  },
  {
   "cell_type": "raw",
   "id": "bb9a53f7",
   "metadata": {},
   "source": [
    "beans\n",
    "├── test\n",
    "│   ├── angular_leaf_spot\n",
    "│   ├── bean_rust\n",
    "│   └── healthy\n",
    "├── train\n",
    "│   ├── angular_leaf_spot\n",
    "│   ├── bean_rust\n",
    "│   └── healthy\n",
    "└── validation\n",
    "    ├── angular_leaf_spot\n",
    "    ├── bean_rust\n",
    "    └── healthy"
   ]
  },
  {
   "cell_type": "markdown",
   "id": "0777423d",
   "metadata": {},
   "source": [
    "To uncompress the data, we can use the following helper function:"
   ]
  },
  {
   "cell_type": "markdown",
   "id": "6a63c084",
   "metadata": {},
   "source": [
    "## Loading Our Dataset\n",
    "\n",
    "As we learned, the [`tf.keras.utils.image_dataset_from_directory()` function](https://www.tensorflow.org/api_docs/python/tf/keras/utils/image_dataset_from_directory) is used to load images from a directory and create a dataset from them. The `shuffle` parameter is an optional argument that, when set to `True`, shuffles the order of the images in the dataset. By default, it is set to `True`.\n",
    "\n",
    "When `shuffle` is enabled, the image dataset's order will be randomized during each epoch. This helps to prevent any possible biases that may arise due to the original order of the images. Shuffling the dataset can lead to better generalization and model performance, as the model is less likely to rely on any specific order of the data.\n",
    "\n",
    "Let's load in the dataset as we did in the previous lesson but this time we'll use the default value for `shuffle` by not passing this argument to the function call when we create the datasets."
   ]
  },
  {
   "cell_type": "code",
   "execution_count": 2,
   "id": "ae1321c8",
   "metadata": {},
   "outputs": [
    {
     "name": "stdout",
     "output_type": "stream",
     "text": [
      "Found 1034 files belonging to 3 classes.\n",
      "Found 133 files belonging to 3 classes.\n"
     ]
    }
   ],
   "source": [
    "import tensorflow as tf\n",
    "\n",
    "train_set = tf.keras.utils.image_dataset_from_directory(\n",
    "    directory='beans/train/',\n",
    "    labels='inferred',\n",
    "    label_mode='categorical',\n",
    "    batch_size=128,\n",
    "    image_size=(500, 500),\n",
    "    shuffle=False)\n",
    "\n",
    "validation_set = tf.keras.utils.image_dataset_from_directory(\n",
    "    directory='beans/validation/',\n",
    "    labels='inferred',\n",
    "    label_mode='categorical',\n",
    "    batch_size=128,\n",
    "    image_size=(500, 500),\n",
    "    shuffle=False)"
   ]
  },
  {
   "cell_type": "markdown",
   "id": "103563e8",
   "metadata": {},
   "source": [
    "Although it was a neural network, our model from the last file didn't fully utilize the potential of deep learning. The \"deepness\" refers to the number of hidden layers, as well as the width of those layers. For convolutional layers, the width of a layer is determined by the number of filters in that layer. Adding more convolutional layers with larger widths would, theoretically, allow our model to extract and learn more features from our input data.\n",
    "\n",
    "This is also the basis of AlexNet, which has an 8-layer CNN:\n",
    "\n",
    "-   5 convolutional layers.\n",
    "-   2 fully-connected hidden layers.\n",
    "-   1 output layer.\n",
    "\n",
    "For this file, we'll implement a modified version of AlexNet. But before we can implement it, we have to preprocess our images.\n",
    "\n",
    "When working with a dataset with multiple features, different features could have different ranges of values. One feature could unduly impact the model's pefomance more than another. We standardize or normalize our input features so all of them can be on the same scale and thereby reduce any potential bias the model might end up having towards any one feature. Additionally, training over a set of features with a smaller range of values also speeds up the training.\n",
    "\n",
    "While exploring the `beans` dataset in the last file, we saw how different images had different lighting conditions. We want our model to be able to classify our leaves accurately, whatever the lighting. Normalizing the images could make our model more resilient to such variations across the dataset.\n",
    "\n",
    "There are several different options for preprocessing the images. For example, we could try:\n",
    "\n",
    "-   **Centering:** Calculate the mean value across the training set and subtract that value from each pixel across every image.\n",
    "-   **Normalization:** Scale the pixel values to a range like `[0, 1]` or `[-1, 1]`. This is also referred to as rescaling the input.\n",
    "-   **Standization:** Subtract the mean of the training set from each pixel across every image and divide the result by the standard deviation of the training set. Note that the terms standardization and normalization are often used interchangeably.\n",
    "\n",
    "We will use both normalization and standardization. TensorFlow, however, refers to those terms differently:\n",
    "\n",
    "-   Normalization is referred to as rescaling.\n",
    "-   Standardization is referred to as normalization.\n",
    "\n",
    "We will use the same terms as TensorFlow.\n",
    "\n",
    "AlexNet incorporated the centering approach above. However, we'll rescale our input. While both are commonly-used techniques, rescaling is relatively easier to implement in TensorFlow."
   ]
  },
  {
   "cell_type": "markdown",
   "id": "97aed136",
   "metadata": {},
   "source": [
    "As we know, in TensorFlow our data is stored in a `Dataset` object as a tuple of Tensors storing the images and labels. We only need to normalize our images, not their labels. We can use the [`map()` method](https://www.tensorflow.org/api_docs/python/tf/data/Dataset#map) to extract the images from our dataset:"
   ]
  },
  {
   "cell_type": "code",
   "execution_count": 3,
   "id": "9744ac44",
   "metadata": {},
   "outputs": [],
   "source": [
    "train_imgs = train_set.map(lambda imgs, labels: imgs)"
   ]
  },
  {
   "cell_type": "code",
   "execution_count": 4,
   "id": "9e666d73",
   "metadata": {},
   "outputs": [
    {
     "data": {
      "text/plain": [
       "<_MapDataset element_spec=TensorSpec(shape=(None, 500, 500, 3), dtype=tf.float32, name=None)>"
      ]
     },
     "execution_count": 4,
     "metadata": {},
     "output_type": "execute_result"
    }
   ],
   "source": [
    "train_imgs"
   ]
  },
  {
   "cell_type": "markdown",
   "id": "157653be",
   "metadata": {},
   "source": [
    "`train_imgs` will store only the images from the training set. We can then normalize these images. We first instantiate a [`Normalization` layer](https://www.tensorflow.org/api_docs/python/tf/keras/layers/Normalization):"
   ]
  },
  {
   "cell_type": "code",
   "execution_count": 5,
   "id": "de0f45d5",
   "metadata": {},
   "outputs": [],
   "source": [
    "normalization_layer = tf.keras.layers.Normalization(axis=-1)"
   ]
  },
  {
   "cell_type": "markdown",
   "id": "8622b732",
   "metadata": {},
   "source": [
    "Setting the `axis` to `-1` will result in the layer calculating a mean and variance for each index on the last axis. The images are stored in Tensors of shape `[32, 500, 500, 3]`. The last axis, therefore, corresponds to the RGB channels. Using the [`adapt()` method](https://www.tensorflow.org/api_docs/python/tf/keras/layers/Normalization#adapt), the normalization layer will calculate the mean and variance values for each channel:"
   ]
  },
  {
   "cell_type": "code",
   "execution_count": 6,
   "id": "2c6d6f2b",
   "metadata": {},
   "outputs": [],
   "source": [
    "normalization_layer.adapt(train_imgs)"
   ]
  },
  {
   "cell_type": "markdown",
   "id": "b0174a3a",
   "metadata": {},
   "source": [
    "The above step only uses `train_imgs` to calculate the mean and variance values. It doesn't normalize those images. Once those values are calculated, we have the normalization layer use those values to normalize the images in our training set. Since we'll need the corresponding labels for our normalized training images, we pass the labels through a lambda function without changing their values:"
   ]
  },
  {
   "cell_type": "code",
   "execution_count": 7,
   "id": "3313f9bf",
   "metadata": {},
   "outputs": [],
   "source": [
    "train_set_normalized = train_set.map(lambda imgs, labels: (normalization_layer(imgs), labels))"
   ]
  },
  {
   "cell_type": "markdown",
   "id": "f437e395",
   "metadata": {},
   "source": [
    "We also have to normalize our validation and test sets. If we were to take some new pictures of the leaves and input them into our model for predicting whether they are diseased, the model would likely fail because it was trained on normalized images. The model would expect input similar to the training data. That's why we need to normalize the other two datasets.\n",
    "\n",
    "When normalizing the validation and test sets, we should use the mean and variance values obtained from the *training* set. We want our model to generalize and perform well on unseen data. We use validation and test sets in lieu of unseen data to allow us to train such a model. If we were to calulate the mean and variance of the validation and test sets separately and use those values to normalize the datasets, we would be \"leaking\" information about the two datasets back to our model. When information from our test or validation set is unintentionally used during the training process like this, we refer to it as data leakage."
   ]
  },
  {
   "cell_type": "markdown",
   "id": "fea148fb",
   "metadata": {},
   "source": [
    "Data leakage can end up introducing bias in our model. The model might end up performing well on the validation and test sets; however, we might not get a similar performance when we use the model to classify any new, unseen data. This would be even more of a problem if we used the model to classify a single input. We won't be able to calculate the mean and variance of a single image in order to normalize it. If we couldn't normalize that single image input, our model would likely not output an accurate prediction.\n",
    "\n",
    "This is why we normalize our validation and test sets using the mean and variance values obtained from the training set. We'll use the same normalization layer to normalize the two other sets."
   ]
  },
  {
   "cell_type": "code",
   "execution_count": 9,
   "id": "5db6667a",
   "metadata": {},
   "outputs": [],
   "source": [
    "train_set_normalized = train_set.map(lambda imgs, labels: (normalization_layer(imgs), labels))\n",
    "validation_set_normalized = validation_set.map(lambda imgs, labels: (normalization_layer(imgs), labels))"
   ]
  },
  {
   "cell_type": "code",
   "execution_count": 10,
   "id": "a01dd3a3",
   "metadata": {},
   "outputs": [
    {
     "name": "stdout",
     "output_type": "stream",
     "text": [
      "Found 128 files belonging to 3 classes.\n"
     ]
    }
   ],
   "source": [
    "test_set = tf.keras.utils.image_dataset_from_directory(\n",
    "    directory='beans/test/',\n",
    "    labels='inferred',\n",
    "    label_mode='categorical',\n",
    "    batch_size=32,\n",
    "    image_size=(500, 500))"
   ]
  },
  {
   "cell_type": "code",
   "execution_count": 11,
   "id": "4c91c4f3",
   "metadata": {},
   "outputs": [],
   "source": [
    "test_set_normalized = test_set.map(lambda imgs, labels: (normalization_layer(imgs), labels))"
   ]
  },
  {
   "cell_type": "markdown",
   "id": "1021aca0",
   "metadata": {},
   "source": [
    "Now that we've preprocessed our inputs, we can build our model. As mentioned previously, AlexNet has 8 layers. Its architecture is depicted below. Note that AlexNet uses a different `input_shape` (227, 227) than what we've been using for the `beans` dataset (500, 500). We'll talk more about that later.\n",
    "\n",
    "![](https://s3.amazonaws.com/dq-content/780/4.1-m780.svg)\n",
    "\n",
    "The first layer is a convolutional layer with a filter of size `11x11`. At this stage, it's reasonable to ask what the appropriate kernel size is for a given convolutional layer. The answer is that it's a hyperparameter we can tune.\n",
    "\n",
    "The `11x11` kernel size was selected by the creators of AlexNet to capture more of the objects in the images. Since the creation of AlexNet, both research and experiments have shown that deeper models (ones with more convolutional layers) are better than wider models (ones with larger kernels). Many CNN architectures since then have used kernels of sizes `5x5`, `3x3` etc. More layers allow the model to extract more features from previous layers. Smaller kernels also result in fewer model parameters. This topic is still being researched, though. Newer research indicates that larger filters are a viable option. That's the pattern we'll notice across these files — designing deep learning architectures is very experimental."
   ]
  },
  {
   "cell_type": "markdown",
   "id": "3050b13c",
   "metadata": {},
   "source": [
    "We also need to consider that our `beans` dataset only has images of leaves. Even with large image sizes, we don't necessarily require large filter sizes and can opt for smaller ones if we want to.\n",
    "\n",
    "AlexNet applied padding to inputs of all convolutional layers except the first one. We might recall that we can set padding in [`Conv2D` layers](https://www.tensorflow.org/api_docs/python/tf/keras/layers/Conv2D) as `same` or as `valid`. AlexNet set `padding` to `valid` for the first convolutional layer and `same` for the rest. In the figure above, we can see how the padding and number of strides have an impact on outputs of each layer. We'll discuss that later.\n",
    "\n",
    "After the first convolutional layer, the architecture used a max pooling layer with a stride of `2`. Based on the experiments the authors ran, this choice was shown to improve the model's performance. As a final note, all the layers in the model use the `ReLU` activation function.\n",
    "\n",
    "We'll build a model with just the first two layers."
   ]
  },
  {
   "attachments": {
    "image.png": {
     "image/png": "[encoded data removed]"
    }
   },
   "cell_type": "markdown",
   "id": "8b645317",
   "metadata": {},
   "source": [
    "### The AlexNet architecture:\n",
    "\n",
    "![image.png](attachment:image.png)\n",
    "\n",
    "Refer to the AlexNet architecture to select the required hyperparameters for the exercise below."
   ]
  },
  {
   "cell_type": "code",
   "execution_count": 12,
   "id": "d1095d00",
   "metadata": {},
   "outputs": [
    {
     "data": {
      "text/html": [
       "<pre style=\"white-space:pre;overflow-x:auto;line-height:normal;font-family:Menlo,'DejaVu Sans Mono',consolas,'Courier New',monospace\"><span style=\"font-weight: bold\">Model: \"sequential\"</span>\n",
       "</pre>\n"
      ],
      "text/plain": [
       "\u001b[1mModel: \"sequential\"\u001b[0m\n"
      ]
     },
     "metadata": {},
     "output_type": "display_data"
    },
    {
     "data": {
      "text/html": [
       "<pre style=\"white-space:pre;overflow-x:auto;line-height:normal;font-family:Menlo,'DejaVu Sans Mono',consolas,'Courier New',monospace\">┏━━━━━━━━━━━━━━━━━━━━━━━━━━━━━━━━━━━━━━┳━━━━━━━━━━━━━━━━━━━━━━━━━━━━━┳━━━━━━━━━━━━━━━━━┓\n",
       "┃<span style=\"font-weight: bold\"> Layer (type)                         </span>┃<span style=\"font-weight: bold\"> Output Shape                </span>┃<span style=\"font-weight: bold\">         Param # </span>┃\n",
       "┡━━━━━━━━━━━━━━━━━━━━━━━━━━━━━━━━━━━━━━╇━━━━━━━━━━━━━━━━━━━━━━━━━━━━━╇━━━━━━━━━━━━━━━━━┩\n",
       "│ conv2d (<span style=\"color: #0087ff; text-decoration-color: #0087ff\">Conv2D</span>)                      │ (<span style=\"color: #00d7ff; text-decoration-color: #00d7ff\">None</span>, <span style=\"color: #00af00; text-decoration-color: #00af00\">123</span>, <span style=\"color: #00af00; text-decoration-color: #00af00\">123</span>, <span style=\"color: #00af00; text-decoration-color: #00af00\">96</span>)        │          <span style=\"color: #00af00; text-decoration-color: #00af00\">34,944</span> │\n",
       "├──────────────────────────────────────┼─────────────────────────────┼─────────────────┤\n",
       "│ max_pooling2d (<span style=\"color: #0087ff; text-decoration-color: #0087ff\">MaxPooling2D</span>)         │ (<span style=\"color: #00d7ff; text-decoration-color: #00d7ff\">None</span>, <span style=\"color: #00af00; text-decoration-color: #00af00\">61</span>, <span style=\"color: #00af00; text-decoration-color: #00af00\">61</span>, <span style=\"color: #00af00; text-decoration-color: #00af00\">96</span>)          │               <span style=\"color: #00af00; text-decoration-color: #00af00\">0</span> │\n",
       "├──────────────────────────────────────┼─────────────────────────────┼─────────────────┤\n",
       "│ conv2d_1 (<span style=\"color: #0087ff; text-decoration-color: #0087ff\">Conv2D</span>)                    │ (<span style=\"color: #00d7ff; text-decoration-color: #00d7ff\">None</span>, <span style=\"color: #00af00; text-decoration-color: #00af00\">61</span>, <span style=\"color: #00af00; text-decoration-color: #00af00\">61</span>, <span style=\"color: #00af00; text-decoration-color: #00af00\">256</span>)         │         <span style=\"color: #00af00; text-decoration-color: #00af00\">614,656</span> │\n",
       "├──────────────────────────────────────┼─────────────────────────────┼─────────────────┤\n",
       "│ max_pooling2d_1 (<span style=\"color: #0087ff; text-decoration-color: #0087ff\">MaxPooling2D</span>)       │ (<span style=\"color: #00d7ff; text-decoration-color: #00d7ff\">None</span>, <span style=\"color: #00af00; text-decoration-color: #00af00\">30</span>, <span style=\"color: #00af00; text-decoration-color: #00af00\">30</span>, <span style=\"color: #00af00; text-decoration-color: #00af00\">256</span>)         │               <span style=\"color: #00af00; text-decoration-color: #00af00\">0</span> │\n",
       "└──────────────────────────────────────┴─────────────────────────────┴─────────────────┘\n",
       "</pre>\n"
      ],
      "text/plain": [
       "┏━━━━━━━━━━━━━━━━━━━━━━━━━━━━━━━━━━━━━━┳━━━━━━━━━━━━━━━━━━━━━━━━━━━━━┳━━━━━━━━━━━━━━━━━┓\n",
       "┃\u001b[1m \u001b[0m\u001b[1mLayer (type)                        \u001b[0m\u001b[1m \u001b[0m┃\u001b[1m \u001b[0m\u001b[1mOutput Shape               \u001b[0m\u001b[1m \u001b[0m┃\u001b[1m \u001b[0m\u001b[1m        Param #\u001b[0m\u001b[1m \u001b[0m┃\n",
       "┡━━━━━━━━━━━━━━━━━━━━━━━━━━━━━━━━━━━━━━╇━━━━━━━━━━━━━━━━━━━━━━━━━━━━━╇━━━━━━━━━━━━━━━━━┩\n",
       "│ conv2d (\u001b[38;5;33mConv2D\u001b[0m)                      │ (\u001b[38;5;45mNone\u001b[0m, \u001b[38;5;34m123\u001b[0m, \u001b[38;5;34m123\u001b[0m, \u001b[38;5;34m96\u001b[0m)        │          \u001b[38;5;34m34,944\u001b[0m │\n",
       "├──────────────────────────────────────┼─────────────────────────────┼─────────────────┤\n",
       "│ max_pooling2d (\u001b[38;5;33mMaxPooling2D\u001b[0m)         │ (\u001b[38;5;45mNone\u001b[0m, \u001b[38;5;34m61\u001b[0m, \u001b[38;5;34m61\u001b[0m, \u001b[38;5;34m96\u001b[0m)          │               \u001b[38;5;34m0\u001b[0m │\n",
       "├──────────────────────────────────────┼─────────────────────────────┼─────────────────┤\n",
       "│ conv2d_1 (\u001b[38;5;33mConv2D\u001b[0m)                    │ (\u001b[38;5;45mNone\u001b[0m, \u001b[38;5;34m61\u001b[0m, \u001b[38;5;34m61\u001b[0m, \u001b[38;5;34m256\u001b[0m)         │         \u001b[38;5;34m614,656\u001b[0m │\n",
       "├──────────────────────────────────────┼─────────────────────────────┼─────────────────┤\n",
       "│ max_pooling2d_1 (\u001b[38;5;33mMaxPooling2D\u001b[0m)       │ (\u001b[38;5;45mNone\u001b[0m, \u001b[38;5;34m30\u001b[0m, \u001b[38;5;34m30\u001b[0m, \u001b[38;5;34m256\u001b[0m)         │               \u001b[38;5;34m0\u001b[0m │\n",
       "└──────────────────────────────────────┴─────────────────────────────┴─────────────────┘\n"
      ]
     },
     "metadata": {},
     "output_type": "display_data"
    },
    {
     "data": {
      "text/html": [
       "<pre style=\"white-space:pre;overflow-x:auto;line-height:normal;font-family:Menlo,'DejaVu Sans Mono',consolas,'Courier New',monospace\"><span style=\"font-weight: bold\"> Total params: </span><span style=\"color: #00af00; text-decoration-color: #00af00\">649,600</span> (2.48 MB)\n",
       "</pre>\n"
      ],
      "text/plain": [
       "\u001b[1m Total params: \u001b[0m\u001b[38;5;34m649,600\u001b[0m (2.48 MB)\n"
      ]
     },
     "metadata": {},
     "output_type": "display_data"
    },
    {
     "data": {
      "text/html": [
       "<pre style=\"white-space:pre;overflow-x:auto;line-height:normal;font-family:Menlo,'DejaVu Sans Mono',consolas,'Courier New',monospace\"><span style=\"font-weight: bold\"> Trainable params: </span><span style=\"color: #00af00; text-decoration-color: #00af00\">649,600</span> (2.48 MB)\n",
       "</pre>\n"
      ],
      "text/plain": [
       "\u001b[1m Trainable params: \u001b[0m\u001b[38;5;34m649,600\u001b[0m (2.48 MB)\n"
      ]
     },
     "metadata": {},
     "output_type": "display_data"
    },
    {
     "data": {
      "text/html": [
       "<pre style=\"white-space:pre;overflow-x:auto;line-height:normal;font-family:Menlo,'DejaVu Sans Mono',consolas,'Courier New',monospace\"><span style=\"font-weight: bold\"> Non-trainable params: </span><span style=\"color: #00af00; text-decoration-color: #00af00\">0</span> (0.00 B)\n",
       "</pre>\n"
      ],
      "text/plain": [
       "\u001b[1m Non-trainable params: \u001b[0m\u001b[38;5;34m0\u001b[0m (0.00 B)\n"
      ]
     },
     "metadata": {},
     "output_type": "display_data"
    }
   ],
   "source": [
    "from tensorflow.keras import layers, models\n",
    "\n",
    "model = models.Sequential()\n",
    "model.add(layers.Input(shape= (500, 500, 3)))\n",
    "\n",
    "model.add(layers.Conv2D(filters=96, kernel_size=11,strides=4, padding=\"valid\",activation='relu'))\n",
    "model.add(layers.MaxPooling2D(pool_size=3, strides=2))\n",
    "\n",
    "model.add(layers.Conv2D(filters=256, kernel_size=5,strides=1, padding=\"same\",activation='relu'))\n",
    "\n",
    "model.add(layers.MaxPooling2D(pool_size=3, strides=2))\n",
    "\n",
    "model.summary()"
   ]
  },
  {
   "cell_type": "markdown",
   "id": "296fe09e",
   "metadata": {},
   "source": [
    "![](https://s3.amazonaws.com/dq-content/780/5.1-m780.svg)\n",
    "\n",
    "The next 3 layers of our model are convolutional layers, with no pooling layers between them. As we know, max pooling offers multiple advantages, but not using it can allow the model to extract more features. Many modern CNN architectures follow a similar pattern of adding a pooling layer after multiple consecutive convolutional layers.\n",
    "\n",
    "We have more layers in this model than the one we created previously. Each convolutional layer has multiple kernels. The number of kernels generally increases as we go deeper, because each subsequent layer extracts more complex features.\n",
    "\n",
    "We previously learned how the parameters `padding` and `strides` impact a layer's output dimensions. In the AlexNet architecture, a layer with a padded input and with a stride greater than `1`, the height and width of each output of that layer is less than the input. However, when the stride is `1`, the height and width remain the same. The architecture adds more convolutional layers, but those layers don't lead to any loss of features, since the output dimensions are the same as the input's. With the large number of kernels, these consecutive convolutional layers allow the model to extract more complex features.\n",
    "\n",
    "For our `beans` dataset, we might not need as many layers, since there aren't too many complex details in the images of the leaves. We can experiment with selecting the number of layers and deciding how to design the architecture using those layers. This is a part of tuning or optimizing our hyperparameters, which we'll do on a later.\n",
    "\n",
    "After these convolutional layers and a pooling layer, we have two fully-connected layers before a final output layer. These layers take the features from the convolutional layers as input and classify them into an appropriate class. The output sizes of these fuly-connected layers, except the final output layer, are tunable hyperparameters.\n",
    "\n",
    "For AlexNet, the output layer had a size of `1000` because it had `1000` different classes of images. We only have `3` classes in our dataset, so our output layer only needs a size of `3`."
   ]
  },
  {
   "cell_type": "code",
   "execution_count": 14,
   "id": "71faf0eb",
   "metadata": {},
   "outputs": [
    {
     "data": {
      "text/html": [
       "<pre style=\"white-space:pre;overflow-x:auto;line-height:normal;font-family:Menlo,'DejaVu Sans Mono',consolas,'Courier New',monospace\"><span style=\"font-weight: bold\">Model: \"sequential_2\"</span>\n",
       "</pre>\n"
      ],
      "text/plain": [
       "\u001b[1mModel: \"sequential_2\"\u001b[0m\n"
      ]
     },
     "metadata": {},
     "output_type": "display_data"
    },
    {
     "data": {
      "text/html": [
       "<pre style=\"white-space:pre;overflow-x:auto;line-height:normal;font-family:Menlo,'DejaVu Sans Mono',consolas,'Courier New',monospace\">┏━━━━━━━━━━━━━━━━━━━━━━━━━━━━━━━━━━━━━━┳━━━━━━━━━━━━━━━━━━━━━━━━━━━━━┳━━━━━━━━━━━━━━━━━┓\n",
       "┃<span style=\"font-weight: bold\"> Layer (type)                         </span>┃<span style=\"font-weight: bold\"> Output Shape                </span>┃<span style=\"font-weight: bold\">         Param # </span>┃\n",
       "┡━━━━━━━━━━━━━━━━━━━━━━━━━━━━━━━━━━━━━━╇━━━━━━━━━━━━━━━━━━━━━━━━━━━━━╇━━━━━━━━━━━━━━━━━┩\n",
       "│ conv2d_7 (<span style=\"color: #0087ff; text-decoration-color: #0087ff\">Conv2D</span>)                    │ (<span style=\"color: #00d7ff; text-decoration-color: #00d7ff\">None</span>, <span style=\"color: #00af00; text-decoration-color: #00af00\">123</span>, <span style=\"color: #00af00; text-decoration-color: #00af00\">123</span>, <span style=\"color: #00af00; text-decoration-color: #00af00\">96</span>)        │          <span style=\"color: #00af00; text-decoration-color: #00af00\">34,944</span> │\n",
       "├──────────────────────────────────────┼─────────────────────────────┼─────────────────┤\n",
       "│ max_pooling2d_5 (<span style=\"color: #0087ff; text-decoration-color: #0087ff\">MaxPooling2D</span>)       │ (<span style=\"color: #00d7ff; text-decoration-color: #00d7ff\">None</span>, <span style=\"color: #00af00; text-decoration-color: #00af00\">61</span>, <span style=\"color: #00af00; text-decoration-color: #00af00\">61</span>, <span style=\"color: #00af00; text-decoration-color: #00af00\">96</span>)          │               <span style=\"color: #00af00; text-decoration-color: #00af00\">0</span> │\n",
       "├──────────────────────────────────────┼─────────────────────────────┼─────────────────┤\n",
       "│ conv2d_8 (<span style=\"color: #0087ff; text-decoration-color: #0087ff\">Conv2D</span>)                    │ (<span style=\"color: #00d7ff; text-decoration-color: #00d7ff\">None</span>, <span style=\"color: #00af00; text-decoration-color: #00af00\">61</span>, <span style=\"color: #00af00; text-decoration-color: #00af00\">61</span>, <span style=\"color: #00af00; text-decoration-color: #00af00\">256</span>)         │         <span style=\"color: #00af00; text-decoration-color: #00af00\">614,656</span> │\n",
       "├──────────────────────────────────────┼─────────────────────────────┼─────────────────┤\n",
       "│ max_pooling2d_6 (<span style=\"color: #0087ff; text-decoration-color: #0087ff\">MaxPooling2D</span>)       │ (<span style=\"color: #00d7ff; text-decoration-color: #00d7ff\">None</span>, <span style=\"color: #00af00; text-decoration-color: #00af00\">30</span>, <span style=\"color: #00af00; text-decoration-color: #00af00\">30</span>, <span style=\"color: #00af00; text-decoration-color: #00af00\">256</span>)         │               <span style=\"color: #00af00; text-decoration-color: #00af00\">0</span> │\n",
       "├──────────────────────────────────────┼─────────────────────────────┼─────────────────┤\n",
       "│ conv2d_9 (<span style=\"color: #0087ff; text-decoration-color: #0087ff\">Conv2D</span>)                    │ (<span style=\"color: #00d7ff; text-decoration-color: #00d7ff\">None</span>, <span style=\"color: #00af00; text-decoration-color: #00af00\">30</span>, <span style=\"color: #00af00; text-decoration-color: #00af00\">30</span>, <span style=\"color: #00af00; text-decoration-color: #00af00\">384</span>)         │         <span style=\"color: #00af00; text-decoration-color: #00af00\">885,120</span> │\n",
       "├──────────────────────────────────────┼─────────────────────────────┼─────────────────┤\n",
       "│ conv2d_10 (<span style=\"color: #0087ff; text-decoration-color: #0087ff\">Conv2D</span>)                   │ (<span style=\"color: #00d7ff; text-decoration-color: #00d7ff\">None</span>, <span style=\"color: #00af00; text-decoration-color: #00af00\">30</span>, <span style=\"color: #00af00; text-decoration-color: #00af00\">30</span>, <span style=\"color: #00af00; text-decoration-color: #00af00\">384</span>)         │       <span style=\"color: #00af00; text-decoration-color: #00af00\">1,327,488</span> │\n",
       "├──────────────────────────────────────┼─────────────────────────────┼─────────────────┤\n",
       "│ conv2d_11 (<span style=\"color: #0087ff; text-decoration-color: #0087ff\">Conv2D</span>)                   │ (<span style=\"color: #00d7ff; text-decoration-color: #00d7ff\">None</span>, <span style=\"color: #00af00; text-decoration-color: #00af00\">30</span>, <span style=\"color: #00af00; text-decoration-color: #00af00\">30</span>, <span style=\"color: #00af00; text-decoration-color: #00af00\">256</span>)         │         <span style=\"color: #00af00; text-decoration-color: #00af00\">884,992</span> │\n",
       "├──────────────────────────────────────┼─────────────────────────────┼─────────────────┤\n",
       "│ max_pooling2d_7 (<span style=\"color: #0087ff; text-decoration-color: #0087ff\">MaxPooling2D</span>)       │ (<span style=\"color: #00d7ff; text-decoration-color: #00d7ff\">None</span>, <span style=\"color: #00af00; text-decoration-color: #00af00\">14</span>, <span style=\"color: #00af00; text-decoration-color: #00af00\">14</span>, <span style=\"color: #00af00; text-decoration-color: #00af00\">256</span>)         │               <span style=\"color: #00af00; text-decoration-color: #00af00\">0</span> │\n",
       "├──────────────────────────────────────┼─────────────────────────────┼─────────────────┤\n",
       "│ flatten_1 (<span style=\"color: #0087ff; text-decoration-color: #0087ff\">Flatten</span>)                  │ (<span style=\"color: #00d7ff; text-decoration-color: #00d7ff\">None</span>, <span style=\"color: #00af00; text-decoration-color: #00af00\">50176</span>)               │               <span style=\"color: #00af00; text-decoration-color: #00af00\">0</span> │\n",
       "├──────────────────────────────────────┼─────────────────────────────┼─────────────────┤\n",
       "│ dense_3 (<span style=\"color: #0087ff; text-decoration-color: #0087ff\">Dense</span>)                      │ (<span style=\"color: #00d7ff; text-decoration-color: #00d7ff\">None</span>, <span style=\"color: #00af00; text-decoration-color: #00af00\">4096</span>)                │     <span style=\"color: #00af00; text-decoration-color: #00af00\">205,524,992</span> │\n",
       "├──────────────────────────────────────┼─────────────────────────────┼─────────────────┤\n",
       "│ dense_4 (<span style=\"color: #0087ff; text-decoration-color: #0087ff\">Dense</span>)                      │ (<span style=\"color: #00d7ff; text-decoration-color: #00d7ff\">None</span>, <span style=\"color: #00af00; text-decoration-color: #00af00\">4096</span>)                │      <span style=\"color: #00af00; text-decoration-color: #00af00\">16,781,312</span> │\n",
       "├──────────────────────────────────────┼─────────────────────────────┼─────────────────┤\n",
       "│ dense_5 (<span style=\"color: #0087ff; text-decoration-color: #0087ff\">Dense</span>)                      │ (<span style=\"color: #00d7ff; text-decoration-color: #00d7ff\">None</span>, <span style=\"color: #00af00; text-decoration-color: #00af00\">3</span>)                   │          <span style=\"color: #00af00; text-decoration-color: #00af00\">12,291</span> │\n",
       "└──────────────────────────────────────┴─────────────────────────────┴─────────────────┘\n",
       "</pre>\n"
      ],
      "text/plain": [
       "┏━━━━━━━━━━━━━━━━━━━━━━━━━━━━━━━━━━━━━━┳━━━━━━━━━━━━━━━━━━━━━━━━━━━━━┳━━━━━━━━━━━━━━━━━┓\n",
       "┃\u001b[1m \u001b[0m\u001b[1mLayer (type)                        \u001b[0m\u001b[1m \u001b[0m┃\u001b[1m \u001b[0m\u001b[1mOutput Shape               \u001b[0m\u001b[1m \u001b[0m┃\u001b[1m \u001b[0m\u001b[1m        Param #\u001b[0m\u001b[1m \u001b[0m┃\n",
       "┡━━━━━━━━━━━━━━━━━━━━━━━━━━━━━━━━━━━━━━╇━━━━━━━━━━━━━━━━━━━━━━━━━━━━━╇━━━━━━━━━━━━━━━━━┩\n",
       "│ conv2d_7 (\u001b[38;5;33mConv2D\u001b[0m)                    │ (\u001b[38;5;45mNone\u001b[0m, \u001b[38;5;34m123\u001b[0m, \u001b[38;5;34m123\u001b[0m, \u001b[38;5;34m96\u001b[0m)        │          \u001b[38;5;34m34,944\u001b[0m │\n",
       "├──────────────────────────────────────┼─────────────────────────────┼─────────────────┤\n",
       "│ max_pooling2d_5 (\u001b[38;5;33mMaxPooling2D\u001b[0m)       │ (\u001b[38;5;45mNone\u001b[0m, \u001b[38;5;34m61\u001b[0m, \u001b[38;5;34m61\u001b[0m, \u001b[38;5;34m96\u001b[0m)          │               \u001b[38;5;34m0\u001b[0m │\n",
       "├──────────────────────────────────────┼─────────────────────────────┼─────────────────┤\n",
       "│ conv2d_8 (\u001b[38;5;33mConv2D\u001b[0m)                    │ (\u001b[38;5;45mNone\u001b[0m, \u001b[38;5;34m61\u001b[0m, \u001b[38;5;34m61\u001b[0m, \u001b[38;5;34m256\u001b[0m)         │         \u001b[38;5;34m614,656\u001b[0m │\n",
       "├──────────────────────────────────────┼─────────────────────────────┼─────────────────┤\n",
       "│ max_pooling2d_6 (\u001b[38;5;33mMaxPooling2D\u001b[0m)       │ (\u001b[38;5;45mNone\u001b[0m, \u001b[38;5;34m30\u001b[0m, \u001b[38;5;34m30\u001b[0m, \u001b[38;5;34m256\u001b[0m)         │               \u001b[38;5;34m0\u001b[0m │\n",
       "├──────────────────────────────────────┼─────────────────────────────┼─────────────────┤\n",
       "│ conv2d_9 (\u001b[38;5;33mConv2D\u001b[0m)                    │ (\u001b[38;5;45mNone\u001b[0m, \u001b[38;5;34m30\u001b[0m, \u001b[38;5;34m30\u001b[0m, \u001b[38;5;34m384\u001b[0m)         │         \u001b[38;5;34m885,120\u001b[0m │\n",
       "├──────────────────────────────────────┼─────────────────────────────┼─────────────────┤\n",
       "│ conv2d_10 (\u001b[38;5;33mConv2D\u001b[0m)                   │ (\u001b[38;5;45mNone\u001b[0m, \u001b[38;5;34m30\u001b[0m, \u001b[38;5;34m30\u001b[0m, \u001b[38;5;34m384\u001b[0m)         │       \u001b[38;5;34m1,327,488\u001b[0m │\n",
       "├──────────────────────────────────────┼─────────────────────────────┼─────────────────┤\n",
       "│ conv2d_11 (\u001b[38;5;33mConv2D\u001b[0m)                   │ (\u001b[38;5;45mNone\u001b[0m, \u001b[38;5;34m30\u001b[0m, \u001b[38;5;34m30\u001b[0m, \u001b[38;5;34m256\u001b[0m)         │         \u001b[38;5;34m884,992\u001b[0m │\n",
       "├──────────────────────────────────────┼─────────────────────────────┼─────────────────┤\n",
       "│ max_pooling2d_7 (\u001b[38;5;33mMaxPooling2D\u001b[0m)       │ (\u001b[38;5;45mNone\u001b[0m, \u001b[38;5;34m14\u001b[0m, \u001b[38;5;34m14\u001b[0m, \u001b[38;5;34m256\u001b[0m)         │               \u001b[38;5;34m0\u001b[0m │\n",
       "├──────────────────────────────────────┼─────────────────────────────┼─────────────────┤\n",
       "│ flatten_1 (\u001b[38;5;33mFlatten\u001b[0m)                  │ (\u001b[38;5;45mNone\u001b[0m, \u001b[38;5;34m50176\u001b[0m)               │               \u001b[38;5;34m0\u001b[0m │\n",
       "├──────────────────────────────────────┼─────────────────────────────┼─────────────────┤\n",
       "│ dense_3 (\u001b[38;5;33mDense\u001b[0m)                      │ (\u001b[38;5;45mNone\u001b[0m, \u001b[38;5;34m4096\u001b[0m)                │     \u001b[38;5;34m205,524,992\u001b[0m │\n",
       "├──────────────────────────────────────┼─────────────────────────────┼─────────────────┤\n",
       "│ dense_4 (\u001b[38;5;33mDense\u001b[0m)                      │ (\u001b[38;5;45mNone\u001b[0m, \u001b[38;5;34m4096\u001b[0m)                │      \u001b[38;5;34m16,781,312\u001b[0m │\n",
       "├──────────────────────────────────────┼─────────────────────────────┼─────────────────┤\n",
       "│ dense_5 (\u001b[38;5;33mDense\u001b[0m)                      │ (\u001b[38;5;45mNone\u001b[0m, \u001b[38;5;34m3\u001b[0m)                   │          \u001b[38;5;34m12,291\u001b[0m │\n",
       "└──────────────────────────────────────┴─────────────────────────────┴─────────────────┘\n"
      ]
     },
     "metadata": {},
     "output_type": "display_data"
    },
    {
     "data": {
      "text/html": [
       "<pre style=\"white-space:pre;overflow-x:auto;line-height:normal;font-family:Menlo,'DejaVu Sans Mono',consolas,'Courier New',monospace\"><span style=\"font-weight: bold\"> Total params: </span><span style=\"color: #00af00; text-decoration-color: #00af00\">226,065,795</span> (862.37 MB)\n",
       "</pre>\n"
      ],
      "text/plain": [
       "\u001b[1m Total params: \u001b[0m\u001b[38;5;34m226,065,795\u001b[0m (862.37 MB)\n"
      ]
     },
     "metadata": {},
     "output_type": "display_data"
    },
    {
     "data": {
      "text/html": [
       "<pre style=\"white-space:pre;overflow-x:auto;line-height:normal;font-family:Menlo,'DejaVu Sans Mono',consolas,'Courier New',monospace\"><span style=\"font-weight: bold\"> Trainable params: </span><span style=\"color: #00af00; text-decoration-color: #00af00\">226,065,795</span> (862.37 MB)\n",
       "</pre>\n"
      ],
      "text/plain": [
       "\u001b[1m Trainable params: \u001b[0m\u001b[38;5;34m226,065,795\u001b[0m (862.37 MB)\n"
      ]
     },
     "metadata": {},
     "output_type": "display_data"
    },
    {
     "data": {
      "text/html": [
       "<pre style=\"white-space:pre;overflow-x:auto;line-height:normal;font-family:Menlo,'DejaVu Sans Mono',consolas,'Courier New',monospace\"><span style=\"font-weight: bold\"> Non-trainable params: </span><span style=\"color: #00af00; text-decoration-color: #00af00\">0</span> (0.00 B)\n",
       "</pre>\n"
      ],
      "text/plain": [
       "\u001b[1m Non-trainable params: \u001b[0m\u001b[38;5;34m0\u001b[0m (0.00 B)\n"
      ]
     },
     "metadata": {},
     "output_type": "display_data"
    }
   ],
   "source": [
    "model = models.Sequential()\n",
    "\n",
    "model.add(layers.Input(shape= (500, 500, 3)))\n",
    "\n",
    "model.add(layers.Conv2D(filters=96, kernel_size=11,strides=4, padding=\"valid\",activation='relu'))\n",
    "\n",
    "model.add(layers.MaxPooling2D(pool_size=3, strides=2))\n",
    "\n",
    "model.add(layers.Conv2D(filters=256, kernel_size=5,strides=1, padding=\"same\",activation='relu'))\n",
    "\n",
    "model.add(layers.MaxPooling2D(pool_size=3, strides=2))\n",
    "\n",
    "model.add(layers.Conv2D(filters=384, kernel_size=3, strides=1, padding=\"same\",activation='relu'))\n",
    "\n",
    "model.add(layers.Conv2D(filters=384, kernel_size=3,strides=1, padding=\"same\",activation='relu'))\n",
    "\n",
    "model.add(layers.Conv2D(filters=256, kernel_size=3,strides=1, padding=\"same\",activation='relu'))\n",
    "\n",
    "model.add(layers.MaxPooling2D(pool_size=3, strides=2))\n",
    "model.add(layers.Flatten())\n",
    "\n",
    "model.add(layers.Dense(4096, activation='relu'))\n",
    "model.add(layers.Dense(4096, activation='relu'))\n",
    "model.add(layers.Dense(3))\n",
    "\n",
    "model.summary()"
   ]
  },
  {
   "cell_type": "code",
   "execution_count": null,
   "id": "2f032a81",
   "metadata": {},
   "outputs": [],
   "source": []
  }
 ],
 "metadata": {
  "kernelspec": {
   "display_name": "Python 3 (ipykernel)",
   "language": "python",
   "name": "python3"
  },
  "language_info": {
   "codemirror_mode": {
    "name": "ipython",
    "version": 3
   },
   "file_extension": ".py",
   "mimetype": "text/x-python",
   "name": "python",
   "nbconvert_exporter": "python",
   "pygments_lexer": "ipython3",
   "version": "3.11.5"
  }
 },
 "nbformat": 4,
 "nbformat_minor": 5
}
